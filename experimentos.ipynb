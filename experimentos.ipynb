{
 "cells": [
  {
   "cell_type": "code",
   "execution_count": 1,
   "id": "c00cea2a",
   "metadata": {},
   "outputs": [],
   "source": [
    "import pandas as pd"
   ]
  },
  {
   "cell_type": "code",
   "execution_count": 2,
   "id": "b6bdc975",
   "metadata": {},
   "outputs": [
    {
     "data": {
      "text/html": [
       "<div>\n",
       "<style scoped>\n",
       "    .dataframe tbody tr th:only-of-type {\n",
       "        vertical-align: middle;\n",
       "    }\n",
       "\n",
       "    .dataframe tbody tr th {\n",
       "        vertical-align: top;\n",
       "    }\n",
       "\n",
       "    .dataframe thead th {\n",
       "        text-align: right;\n",
       "    }\n",
       "</style>\n",
       "<table border=\"1\" class=\"dataframe\">\n",
       "  <thead>\n",
       "    <tr style=\"text-align: right;\">\n",
       "      <th></th>\n",
       "      <th>id_reclamacao</th>\n",
       "      <th>data_abertura</th>\n",
       "      <th>categoria</th>\n",
       "      <th>descricao_reclamacao</th>\n",
       "    </tr>\n",
       "  </thead>\n",
       "  <tbody>\n",
       "    <tr>\n",
       "      <th>0</th>\n",
       "      <td>3229299</td>\n",
       "      <td>2019-05-01T12:00:00-05:00</td>\n",
       "      <td>Hipotecas / Empréstimos</td>\n",
       "      <td>Bom dia, meu nome é xxxx xxxx e agradeço se vo...</td>\n",
       "    </tr>\n",
       "    <tr>\n",
       "      <th>1</th>\n",
       "      <td>3199379</td>\n",
       "      <td>2019-04-02T12:00:00-05:00</td>\n",
       "      <td>Cartão de crédito / Cartão pré-pago</td>\n",
       "      <td>Atualizei meu cartão xxxx xxxx em xx/xx/2018 e...</td>\n",
       "    </tr>\n",
       "    <tr>\n",
       "      <th>2</th>\n",
       "      <td>3233499</td>\n",
       "      <td>2019-05-06T12:00:00-05:00</td>\n",
       "      <td>Cartão de crédito / Cartão pré-pago</td>\n",
       "      <td>O cartão Chase foi relatado em xx/xx/2019. No ...</td>\n",
       "    </tr>\n",
       "    <tr>\n",
       "      <th>3</th>\n",
       "      <td>3180294</td>\n",
       "      <td>2019-03-14T12:00:00-05:00</td>\n",
       "      <td>Cartão de crédito / Cartão pré-pago</td>\n",
       "      <td>Em xx/xx/2018, enquanto tentava reservar um ti...</td>\n",
       "    </tr>\n",
       "    <tr>\n",
       "      <th>4</th>\n",
       "      <td>3224980</td>\n",
       "      <td>2019-04-27T12:00:00-05:00</td>\n",
       "      <td>Serviços de conta bancária</td>\n",
       "      <td>Meu neto me dê cheque por {$ 1600,00} Eu depos...</td>\n",
       "    </tr>\n",
       "  </tbody>\n",
       "</table>\n",
       "</div>"
      ],
      "text/plain": [
       "   id_reclamacao              data_abertura  \\\n",
       "0        3229299  2019-05-01T12:00:00-05:00   \n",
       "1        3199379  2019-04-02T12:00:00-05:00   \n",
       "2        3233499  2019-05-06T12:00:00-05:00   \n",
       "3        3180294  2019-03-14T12:00:00-05:00   \n",
       "4        3224980  2019-04-27T12:00:00-05:00   \n",
       "\n",
       "                             categoria  \\\n",
       "0              Hipotecas / Empréstimos   \n",
       "1  Cartão de crédito / Cartão pré-pago   \n",
       "2  Cartão de crédito / Cartão pré-pago   \n",
       "3  Cartão de crédito / Cartão pré-pago   \n",
       "4           Serviços de conta bancária   \n",
       "\n",
       "                                descricao_reclamacao  \n",
       "0  Bom dia, meu nome é xxxx xxxx e agradeço se vo...  \n",
       "1  Atualizei meu cartão xxxx xxxx em xx/xx/2018 e...  \n",
       "2  O cartão Chase foi relatado em xx/xx/2019. No ...  \n",
       "3  Em xx/xx/2018, enquanto tentava reservar um ti...  \n",
       "4  Meu neto me dê cheque por {$ 1600,00} Eu depos...  "
      ]
     },
     "execution_count": 2,
     "metadata": {},
     "output_type": "execute_result"
    }
   ],
   "source": [
    "# url > https://dados-ml-pln.s3.sa-east-1.amazonaws.com/tickets_reclamacoes_classificados.csv\n",
    "df = pd.read_csv('https://dados-ml-pln.s3.sa-east-1.amazonaws.com/tickets_reclamacoes_classificados.csv', delimiter=';')\n",
    "df.head()"
   ]
  },
  {
   "cell_type": "markdown",
   "id": "abf426f3",
   "metadata": {},
   "source": [
    "## Remoção de nulos se houver"
   ]
  },
  {
   "cell_type": "code",
   "execution_count": 3,
   "id": "d337dcd9",
   "metadata": {},
   "outputs": [
    {
     "data": {
      "text/plain": [
       "id_reclamacao           0\n",
       "data_abertura           0\n",
       "categoria               0\n",
       "descricao_reclamacao    0\n",
       "dtype: int64"
      ]
     },
     "execution_count": 3,
     "metadata": {},
     "output_type": "execute_result"
    }
   ],
   "source": [
    "df.isnull().sum()"
   ]
  },
  {
   "cell_type": "markdown",
   "id": "85cbaf1b",
   "metadata": {},
   "source": [
    "## Distribuição do target"
   ]
  },
  {
   "cell_type": "code",
   "execution_count": 4,
   "id": "6235a6e1",
   "metadata": {},
   "outputs": [
    {
     "data": {
      "text/plain": [
       "Serviços de conta bancária             0.244922\n",
       "Cartão de crédito / Cartão pré-pago    0.237566\n",
       "Roubo / Relatório de disputa           0.228834\n",
       "Hipotecas / Empréstimos                0.182707\n",
       "Outros                                 0.105970\n",
       "Name: categoria, dtype: float64"
      ]
     },
     "execution_count": 4,
     "metadata": {},
     "output_type": "execute_result"
    }
   ],
   "source": [
    "df['categoria'].value_counts() / df.shape[0]"
   ]
  },
  {
   "cell_type": "code",
   "execution_count": null,
   "id": "23bad446",
   "metadata": {},
   "outputs": [],
   "source": []
  },
  {
   "cell_type": "markdown",
   "id": "d1001a2a",
   "metadata": {},
   "source": [
    "## Modelos baseline\n",
    "### Préprocessamento"
   ]
  },
  {
   "cell_type": "code",
   "execution_count": 5,
   "id": "76029a1d",
   "metadata": {},
   "outputs": [
    {
     "name": "stderr",
     "output_type": "stream",
     "text": [
      "[nltk_data] Downloading package stopwords to\n",
      "[nltk_data]     C:\\Users\\vinic\\AppData\\Roaming\\nltk_data...\n",
      "[nltk_data]   Package stopwords is already up-to-date!\n"
     ]
    },
    {
     "data": {
      "text/plain": [
       "True"
      ]
     },
     "execution_count": 5,
     "metadata": {},
     "output_type": "execute_result"
    }
   ],
   "source": [
    "from sklearn.feature_extraction.text import CountVectorizer\n",
    "import nltk\n",
    "nltk.download('stopwords')"
   ]
  },
  {
   "cell_type": "code",
   "execution_count": 6,
   "id": "e0c1f90c",
   "metadata": {},
   "outputs": [
    {
     "name": "stdout",
     "output_type": "stream",
     "text": [
      "['a', 'à', 'ao', 'aos', 'aquela', 'aquelas', 'aquele', 'aqueles', 'aquilo', 'as', 'às', 'até', 'com', 'como', 'da', 'das', 'de', 'dela', 'delas', 'dele', 'deles', 'depois', 'do', 'dos', 'e', 'é', 'ela', 'elas', 'ele', 'eles', 'em', 'entre', 'era', 'eram', 'éramos', 'essa', 'essas', 'esse', 'esses', 'esta', 'está', 'estamos', 'estão', 'estar', 'estas', 'estava', 'estavam', 'estávamos', 'este', 'esteja', 'estejam', 'estejamos', 'estes', 'esteve', 'estive', 'estivemos', 'estiver', 'estivera', 'estiveram', 'estivéramos', 'estiverem', 'estivermos', 'estivesse', 'estivessem', 'estivéssemos', 'estou', 'eu', 'foi', 'fomos', 'for', 'fora', 'foram', 'fôramos', 'forem', 'formos', 'fosse', 'fossem', 'fôssemos', 'fui', 'há', 'haja', 'hajam', 'hajamos', 'hão', 'havemos', 'haver', 'hei', 'houve', 'houvemos', 'houver', 'houvera', 'houverá', 'houveram', 'houvéramos', 'houverão', 'houverei', 'houverem', 'houveremos', 'houveria', 'houveriam', 'houveríamos', 'houvermos', 'houvesse', 'houvessem', 'houvéssemos', 'isso', 'isto', 'já', 'lhe', 'lhes', 'mais', 'mas', 'me', 'mesmo', 'meu', 'meus', 'minha', 'minhas', 'muito', 'na', 'não', 'nas', 'nem', 'no', 'nos', 'nós', 'nossa', 'nossas', 'nosso', 'nossos', 'num', 'numa', 'o', 'os', 'ou', 'para', 'pela', 'pelas', 'pelo', 'pelos', 'por', 'qual', 'quando', 'que', 'quem', 'são', 'se', 'seja', 'sejam', 'sejamos', 'sem', 'ser', 'será', 'serão', 'serei', 'seremos', 'seria', 'seriam', 'seríamos', 'seu', 'seus', 'só', 'somos', 'sou', 'sua', 'suas', 'também', 'te', 'tem', 'tém', 'temos', 'tenha', 'tenham', 'tenhamos', 'tenho', 'terá', 'terão', 'terei', 'teremos', 'teria', 'teriam', 'teríamos', 'teu', 'teus', 'teve', 'tinha', 'tinham', 'tínhamos', 'tive', 'tivemos', 'tiver', 'tivera', 'tiveram', 'tivéramos', 'tiverem', 'tivermos', 'tivesse', 'tivessem', 'tivéssemos', 'tu', 'tua', 'tuas', 'um', 'uma', 'você', 'vocês', 'vos']\n"
     ]
    }
   ],
   "source": [
    "# Neste primeiro teste opitamos por apenas fazer uma vetorização unigram removendo stop words\n",
    "stop_words = nltk.corpus.stopwords.words('portuguese')\n",
    "print(stop_words)"
   ]
  },
  {
   "cell_type": "code",
   "execution_count": 7,
   "id": "1712cfeb",
   "metadata": {},
   "outputs": [
    {
     "data": {
      "text/plain": [
       "array(['Hipotecas / Empréstimos', 'Cartão de crédito / Cartão pré-pago',\n",
       "       'Serviços de conta bancária', 'Outros',\n",
       "       'Roubo / Relatório de disputa'], dtype=object)"
      ]
     },
     "execution_count": 7,
     "metadata": {},
     "output_type": "execute_result"
    }
   ],
   "source": [
    "df['categoria'].unique()"
   ]
  },
  {
   "cell_type": "code",
   "execution_count": 8,
   "id": "f280fc29",
   "metadata": {},
   "outputs": [
    {
     "data": {
      "text/plain": [
       "<21072x42401 sparse matrix of type '<class 'numpy.int64'>'\n",
       "\twith 2491849 stored elements in Compressed Sparse Row format>"
      ]
     },
     "execution_count": 8,
     "metadata": {},
     "output_type": "execute_result"
    }
   ],
   "source": [
    "vetorizador = CountVectorizer(ngram_range=(1,1))\n",
    "vetorizador.fit(df['descricao_reclamacao'])\n",
    "vect = vetorizador.transform(df['descricao_reclamacao'])\n",
    "vect"
   ]
  },
  {
   "cell_type": "code",
   "execution_count": 9,
   "id": "1ce904be",
   "metadata": {},
   "outputs": [],
   "source": [
    "from sklearn.model_selection import train_test_split\n",
    "from sklearn.ensemble import RandomForestClassifier\n",
    "\n",
    "y = df['categoria']\n",
    "x_train, x_test, y_train, y_test = train_test_split(vect, y, test_size=0.25, random_state=42)"
   ]
  },
  {
   "cell_type": "code",
   "execution_count": 20,
   "id": "ce712cfb",
   "metadata": {},
   "outputs": [],
   "source": [
    "from sklearn.metrics import f1_score\n",
    "def gera_resultado(y_train, y_train_true, y_test, y_test_true):\n",
    "    avaliacao_train = f1_score(y_train_true, y_train, average='weighted')\n",
    "    avaliacao_test = f1_score(y_test_true, y_test, average='weighted')\n",
    "    \n",
    "    print(f\"Treino: {avaliacao_train}\" )\n",
    "    print(f\"Teste: {avaliacao_test}\")"
   ]
  },
  {
   "cell_type": "markdown",
   "id": "94a806d1",
   "metadata": {},
   "source": [
    "### Decision Tree"
   ]
  },
  {
   "cell_type": "code",
   "execution_count": 11,
   "id": "9ca1b1ec",
   "metadata": {},
   "outputs": [],
   "source": [
    "from sklearn.tree import DecisionTreeClassifier\n",
    "modelo = DecisionTreeClassifier()\n",
    "modelo.fit(x_train, y_train)\n",
    "preds = modelo.predict(x_train)\n",
    "preds_test = modelo.predict(x_test)"
   ]
  },
  {
   "cell_type": "code",
   "execution_count": 12,
   "id": "e4670523",
   "metadata": {},
   "outputs": [
    {
     "name": "stdout",
     "output_type": "stream",
     "text": [
      "Treino: 1.0\n",
      "Teste: 0.7254530125641099\n"
     ]
    }
   ],
   "source": [
    "gera_resultado(preds, y_train, preds_test, y_test)"
   ]
  },
  {
   "cell_type": "markdown",
   "id": "36d073d7",
   "metadata": {},
   "source": [
    "### Random Forest"
   ]
  },
  {
   "cell_type": "code",
   "execution_count": 13,
   "id": "eb556fa8",
   "metadata": {},
   "outputs": [
    {
     "name": "stdout",
     "output_type": "stream",
     "text": [
      "Treino: 1.0\n",
      "Teste: 0.7936708642534053\n"
     ]
    }
   ],
   "source": [
    "modelo = RandomForestClassifier()\n",
    "modelo.fit(x_train, y_train)\n",
    "preds = modelo.predict(x_train)\n",
    "preds_test = modelo.predict(x_test)\n",
    "\n",
    "gera_resultado(preds, y_train, preds_test, y_test)"
   ]
  },
  {
   "cell_type": "markdown",
   "id": "d0bf7ac2",
   "metadata": {},
   "source": [
    "### Naive Bayes"
   ]
  },
  {
   "cell_type": "code",
   "execution_count": 17,
   "id": "65032d1a",
   "metadata": {},
   "outputs": [
    {
     "name": "stdout",
     "output_type": "stream",
     "text": [
      "Treino: 0.7919900649682384\n",
      "Teste: 0.3989893166443923\n"
     ]
    }
   ],
   "source": [
    "from sklearn.naive_bayes import GaussianNB\n",
    "import numpy as np\n",
    "\n",
    "modelo = GaussianNB()\n",
    "modelo.fit(np.asarray(x_train.todense()), y_train)\n",
    "preds = modelo.predict(np.asarray(x_train.todense()))\n",
    "preds_test = modelo.predict(np.asarray(x_test.todense()))\n",
    "\n",
    "gera_resultado(preds, y_train, preds_test, y_test)"
   ]
  },
  {
   "cell_type": "markdown",
   "id": "8b731cf4",
   "metadata": {},
   "source": [
    "### MLP"
   ]
  },
  {
   "cell_type": "code",
   "execution_count": 13,
   "id": "d348ccf7",
   "metadata": {},
   "outputs": [],
   "source": [
    "from tensorflow.keras.layers import Dense, Dropout, Flatten\n",
    "from tensorflow.keras import Input\n",
    "from tensorflow.keras.models import Sequential\n",
    "import numpy as np\n",
    "from tensorflow.keras.callbacks import EarlyStopping, ModelCheckpoint"
   ]
  },
  {
   "cell_type": "code",
   "execution_count": 7,
   "id": "5282792d",
   "metadata": {},
   "outputs": [],
   "source": [
    "model = Sequential()\n",
    "\n",
    "model.add(Dense(64, activation='relu', input_dim=42401))\n",
    "model.add(Dense(32, activation='relu'))\n",
    "model.add(Dense(5, activation='softmax'))\n",
    "\n",
    "model.compile(loss=\"categorical_crossentropy\", optimizer='adam', metrics=\"accuracy\")"
   ]
  },
  {
   "cell_type": "code",
   "execution_count": 15,
   "id": "d18fa3d6",
   "metadata": {},
   "outputs": [
    {
     "name": "stdout",
     "output_type": "stream",
     "text": [
      "Epoch 1/30\n",
      "494/494 [==============================] - 9s 17ms/step - loss: 0.5516 - accuracy: 0.8283 - val_loss: 0.4731 - val_accuracy: 0.8535\n",
      "Epoch 2/30\n",
      "494/494 [==============================] - 6s 12ms/step - loss: 0.1640 - accuracy: 0.9537 - val_loss: 0.3974 - val_accuracy: 0.8749\n",
      "Epoch 3/30\n",
      "494/494 [==============================] - 6s 12ms/step - loss: 0.0598 - accuracy: 0.9848 - val_loss: 0.4677 - val_accuracy: 0.8762\n",
      "Epoch 4/30\n",
      "494/494 [==============================] - 6s 12ms/step - loss: 0.0668 - accuracy: 0.9839 - val_loss: 0.5346 - val_accuracy: 0.8700\n",
      "Epoch 5/30\n",
      "494/494 [==============================] - 6s 13ms/step - loss: 0.0281 - accuracy: 0.9941 - val_loss: 0.5365 - val_accuracy: 0.8795\n",
      "Epoch 6/30\n",
      "494/494 [==============================] - 6s 12ms/step - loss: 0.0258 - accuracy: 0.9948 - val_loss: 0.6375 - val_accuracy: 0.8707\n",
      "Epoch 7/30\n",
      "494/494 [==============================] - 6s 12ms/step - loss: 0.0176 - accuracy: 0.9956 - val_loss: 0.9016 - val_accuracy: 0.8481\n",
      "Epoch 8/30\n",
      "494/494 [==============================] - 6s 12ms/step - loss: 0.0445 - accuracy: 0.9901 - val_loss: 0.7009 - val_accuracy: 0.8599\n",
      "Epoch 9/30\n",
      "494/494 [==============================] - 6s 12ms/step - loss: 0.0257 - accuracy: 0.9945 - val_loss: 0.8871 - val_accuracy: 0.8407\n",
      "Epoch 10/30\n",
      "494/494 [==============================] - 6s 12ms/step - loss: 0.0158 - accuracy: 0.9959 - val_loss: 0.7541 - val_accuracy: 0.8641\n",
      "Epoch 11/30\n",
      "494/494 [==============================] - 6s 12ms/step - loss: 0.0082 - accuracy: 0.9986 - val_loss: 0.9887 - val_accuracy: 0.8479\n",
      "Epoch 12/30\n",
      "494/494 [==============================] - 6s 12ms/step - loss: 0.0191 - accuracy: 0.9965 - val_loss: 0.8322 - val_accuracy: 0.8563\n",
      "Epoch 13/30\n",
      "494/494 [==============================] - 6s 12ms/step - loss: 0.0254 - accuracy: 0.9943 - val_loss: 0.8790 - val_accuracy: 0.8474\n",
      "Epoch 14/30\n",
      "494/494 [==============================] - 6s 12ms/step - loss: 0.0131 - accuracy: 0.9974 - val_loss: 0.8289 - val_accuracy: 0.8637\n",
      "Epoch 15/30\n",
      "494/494 [==============================] - 6s 12ms/step - loss: 0.0249 - accuracy: 0.9972 - val_loss: 0.7953 - val_accuracy: 0.8597\n",
      "Epoch 16/30\n",
      "494/494 [==============================] - 6s 12ms/step - loss: 0.0015 - accuracy: 0.9997 - val_loss: 0.8116 - val_accuracy: 0.8669\n",
      "Epoch 17/30\n",
      "494/494 [==============================] - 6s 12ms/step - loss: 0.0125 - accuracy: 0.9974 - val_loss: 1.0370 - val_accuracy: 0.8588\n",
      "Epoch 18/30\n",
      "494/494 [==============================] - 7s 14ms/step - loss: 0.0122 - accuracy: 0.9975 - val_loss: 0.8951 - val_accuracy: 0.8580\n",
      "Epoch 19/30\n",
      "494/494 [==============================] - 6s 12ms/step - loss: 0.0022 - accuracy: 0.9994 - val_loss: 0.9032 - val_accuracy: 0.8631\n",
      "Epoch 20/30\n",
      "494/494 [==============================] - 6s 12ms/step - loss: 3.1123e-04 - accuracy: 1.0000 - val_loss: 0.9203 - val_accuracy: 0.8656\n",
      "Epoch 20: early stopping\n"
     ]
    },
    {
     "data": {
      "text/plain": [
       "<keras.callbacks.History at 0x1d1ce0459c0>"
      ]
     },
     "execution_count": 15,
     "metadata": {},
     "output_type": "execute_result"
    }
   ],
   "source": [
    "es = EarlyStopping(monitor='val_loss', verbose=1, patience=18)\n",
    "mc = ModelCheckpoint('best_model_initial.h5', monitor='val_loss', mode='min', save_best_only=True)\n",
    "model.fit(np.asarray(x_train.todense()), pd.get_dummies(y_train.values).values,\n",
    "          validation_data=(np.asarray(x_test.todense()), pd.get_dummies(y_test.values).values), \n",
    "          epochs=30,\n",
    "          callbacks=[es, mc])"
   ]
  },
  {
   "cell_type": "code",
   "execution_count": 16,
   "id": "fa94879e",
   "metadata": {},
   "outputs": [
    {
     "name": "stdout",
     "output_type": "stream",
     "text": [
      "494/494 [==============================] - 2s 4ms/step\n",
      "165/165 [==============================] - 1s 4ms/step\n",
      "Treino: 0.9863912482699\n",
      "Teste: 0.8746002829544764\n"
     ]
    }
   ],
   "source": [
    "from tensorflow.keras.models import load_model\n",
    "model2 = load_model('best_model_initial.h5')\n",
    "\n",
    "preds = model2.predict(np.asarray(x_train.todense())).argmax(axis=-1)\n",
    "preds_test = model2.predict(np.asarray(x_test.todense())).argmax(axis=-1)\n",
    "\n",
    "rotulos = {\"Cartão de crédito / Cartão pré-pago\": 0, \"Hipotecas / Empréstimos\": 1, \"Outros\": 2, \n",
    "           \"Roubo / Relatório de disputa\": 3, \"Serviços de conta bancária\": 4}\n",
    "\n",
    "gera_resultado(preds, y_train.map(rotulos), preds_test, y_test.map(rotulos))"
   ]
  },
  {
   "cell_type": "markdown",
   "id": "f92fe115",
   "metadata": {},
   "source": [
    "## Modelo 2 - Adicionando lemmatização aos dados"
   ]
  },
  {
   "cell_type": "code",
   "execution_count": 33,
   "id": "b649af99",
   "metadata": {},
   "outputs": [],
   "source": [
    "stop_words.append(\"/r\")\n",
    "stop_words.append(\"/n\")\n",
    "stop_words.append(\"/r/n\")\n",
    "stop_words.append(\"/n/r\")"
   ]
  },
  {
   "cell_type": "code",
   "execution_count": 11,
   "id": "97f2752c",
   "metadata": {},
   "outputs": [
    {
     "name": "stderr",
     "output_type": "stream",
     "text": [
      "[nltk_data] Downloading package rslp to\n",
      "[nltk_data]     C:\\Users\\vinic\\AppData\\Roaming\\nltk_data...\n",
      "[nltk_data]   Package rslp is already up-to-date!\n"
     ]
    }
   ],
   "source": [
    "from nltk.stem.rslp import RSLPStemmer\n",
    "nltk.download('rslp')\n",
    "from nltk.tokenize import word_tokenize\n",
    "\n",
    "df['tokens'] = df['descricao_reclamacao'].apply(word_tokenize)\n",
    "rslp = RSLPStemmer()"
   ]
  },
  {
   "cell_type": "code",
   "execution_count": 10,
   "id": "355693c9",
   "metadata": {},
   "outputs": [],
   "source": [
    "def stem_pandas(line):\n",
    "  return ' '.join([rslp.stem(token) for token in line])\n",
    "\n",
    "df['stemmer'] = df.tokens.apply(stem_pandas)"
   ]
  },
  {
   "cell_type": "code",
   "execution_count": 74,
   "id": "2909ff63",
   "metadata": {},
   "outputs": [
    {
     "data": {
      "text/plain": [
       "<21072x20060 sparse matrix of type '<class 'numpy.int64'>'\n",
       "\twith 2198261 stored elements in Compressed Sparse Row format>"
      ]
     },
     "execution_count": 74,
     "metadata": {},
     "output_type": "execute_result"
    }
   ],
   "source": [
    "vetorizador = CountVectorizer(ngram_range=(1,1))\n",
    "vetorizador.fit(df['stemmer'])\n",
    "vect = vetorizador.transform(df['stemmer'])\n",
    "vect"
   ]
  },
  {
   "cell_type": "code",
   "execution_count": 79,
   "id": "80f6fd68",
   "metadata": {},
   "outputs": [
    {
     "data": {
      "text/html": [
       "<div>\n",
       "<style scoped>\n",
       "    .dataframe tbody tr th:only-of-type {\n",
       "        vertical-align: middle;\n",
       "    }\n",
       "\n",
       "    .dataframe tbody tr th {\n",
       "        vertical-align: top;\n",
       "    }\n",
       "\n",
       "    .dataframe thead th {\n",
       "        text-align: right;\n",
       "    }\n",
       "</style>\n",
       "<table border=\"1\" class=\"dataframe\">\n",
       "  <thead>\n",
       "    <tr style=\"text-align: right;\">\n",
       "      <th></th>\n",
       "      <th>id_reclamacao</th>\n",
       "      <th>data_abertura</th>\n",
       "      <th>categoria</th>\n",
       "      <th>descricao_reclamacao</th>\n",
       "      <th>tokens</th>\n",
       "      <th>stemmer</th>\n",
       "    </tr>\n",
       "  </thead>\n",
       "  <tbody>\n",
       "    <tr>\n",
       "      <th>0</th>\n",
       "      <td>3229299</td>\n",
       "      <td>2019-05-01T12:00:00-05:00</td>\n",
       "      <td>Hipotecas / Empréstimos</td>\n",
       "      <td>Bom dia, meu nome é xxxx xxxx e agradeço se vo...</td>\n",
       "      <td>[Bom, dia, ,, meu, nome, é, xxxx, xxxx, e, agr...</td>\n",
       "      <td>bom dia , meu nom é xxxx xxxx e agradeç se voc...</td>\n",
       "    </tr>\n",
       "    <tr>\n",
       "      <th>1</th>\n",
       "      <td>3199379</td>\n",
       "      <td>2019-04-02T12:00:00-05:00</td>\n",
       "      <td>Cartão de crédito / Cartão pré-pago</td>\n",
       "      <td>Atualizei meu cartão xxxx xxxx em xx/xx/2018 e...</td>\n",
       "      <td>[Atualizei, meu, cartão, xxxx, xxxx, em, xx/xx...</td>\n",
       "      <td>atualiz meu cart xxxx xxxx em xx/xx/2018 e fui...</td>\n",
       "    </tr>\n",
       "    <tr>\n",
       "      <th>2</th>\n",
       "      <td>3233499</td>\n",
       "      <td>2019-05-06T12:00:00-05:00</td>\n",
       "      <td>Cartão de crédito / Cartão pré-pago</td>\n",
       "      <td>O cartão Chase foi relatado em xx/xx/2019. No ...</td>\n",
       "      <td>[O, cartão, Chase, foi, relatado, em, xx/xx/20...</td>\n",
       "      <td>o cart chas foi relat em xx/xx/2019 . no entan...</td>\n",
       "    </tr>\n",
       "    <tr>\n",
       "      <th>3</th>\n",
       "      <td>3180294</td>\n",
       "      <td>2019-03-14T12:00:00-05:00</td>\n",
       "      <td>Cartão de crédito / Cartão pré-pago</td>\n",
       "      <td>Em xx/xx/2018, enquanto tentava reservar um ti...</td>\n",
       "      <td>[Em, xx/xx/2018, ,, enquanto, tentava, reserva...</td>\n",
       "      <td>em xx/xx/2018 , enquant tent reserv um ticket ...</td>\n",
       "    </tr>\n",
       "    <tr>\n",
       "      <th>4</th>\n",
       "      <td>3224980</td>\n",
       "      <td>2019-04-27T12:00:00-05:00</td>\n",
       "      <td>Serviços de conta bancária</td>\n",
       "      <td>Meu neto me dê cheque por {$ 1600,00} Eu depos...</td>\n",
       "      <td>[Meu, neto, me, dê, cheque, por, {, $, 1600,00...</td>\n",
       "      <td>meu net me dê chequ por { $ 1600,00 } eu depos...</td>\n",
       "    </tr>\n",
       "    <tr>\n",
       "      <th>...</th>\n",
       "      <td>...</td>\n",
       "      <td>...</td>\n",
       "      <td>...</td>\n",
       "      <td>...</td>\n",
       "      <td>...</td>\n",
       "      <td>...</td>\n",
       "    </tr>\n",
       "    <tr>\n",
       "      <th>21067</th>\n",
       "      <td>3094545</td>\n",
       "      <td>2018-12-07T12:00:00-05:00</td>\n",
       "      <td>Cartão de crédito / Cartão pré-pago</td>\n",
       "      <td>Depois de ser um cliente de cartão de persegui...</td>\n",
       "      <td>[Depois, de, ser, um, cliente, de, cartão, de,...</td>\n",
       "      <td>depois de ser um client de cart de persegu por...</td>\n",
       "    </tr>\n",
       "    <tr>\n",
       "      <th>21068</th>\n",
       "      <td>3091984</td>\n",
       "      <td>2018-12-05T12:00:00-05:00</td>\n",
       "      <td>Roubo / Relatório de disputa</td>\n",
       "      <td>Na quarta -feira, xx/xx/xxxx, liguei para o Ch...</td>\n",
       "      <td>[Na, quarta, -feira, ,, xx/xx/xxxx, ,, liguei,...</td>\n",
       "      <td>na quart -fe , xx/xx/xxxx , lig par o cha , me...</td>\n",
       "    </tr>\n",
       "    <tr>\n",
       "      <th>21069</th>\n",
       "      <td>3133355</td>\n",
       "      <td>2019-01-25T12:00:00-05:00</td>\n",
       "      <td>Roubo / Relatório de disputa</td>\n",
       "      <td>Não estou familiarizado com o XXXX Pay e não e...</td>\n",
       "      <td>[Não, estou, familiarizado, com, o, XXXX, Pay,...</td>\n",
       "      <td>não est familiar com o xxxx pay e não entend o...</td>\n",
       "    </tr>\n",
       "    <tr>\n",
       "      <th>21070</th>\n",
       "      <td>3110963</td>\n",
       "      <td>2018-12-27T12:00:00-05:00</td>\n",
       "      <td>Outros</td>\n",
       "      <td>Eu tive crédito impecável por 30 anos. Eu tive...</td>\n",
       "      <td>[Eu, tive, crédito, impecável, por, 30, anos, ...</td>\n",
       "      <td>eu tiv crédit impec por 30 ano . eu tiv cart d...</td>\n",
       "    </tr>\n",
       "    <tr>\n",
       "      <th>21071</th>\n",
       "      <td>2001189</td>\n",
       "      <td>2016-07-06T12:00:00-05:00</td>\n",
       "      <td>Outros</td>\n",
       "      <td>Mais de 10 anos atrás, encerrei minhas contas ...</td>\n",
       "      <td>[Mais, de, 10, anos, atrás, ,, encerrei, minha...</td>\n",
       "      <td>mais de 10 ano atrás , encerr minh cont com o ...</td>\n",
       "    </tr>\n",
       "  </tbody>\n",
       "</table>\n",
       "<p>21072 rows × 6 columns</p>\n",
       "</div>"
      ],
      "text/plain": [
       "       id_reclamacao              data_abertura  \\\n",
       "0            3229299  2019-05-01T12:00:00-05:00   \n",
       "1            3199379  2019-04-02T12:00:00-05:00   \n",
       "2            3233499  2019-05-06T12:00:00-05:00   \n",
       "3            3180294  2019-03-14T12:00:00-05:00   \n",
       "4            3224980  2019-04-27T12:00:00-05:00   \n",
       "...              ...                        ...   \n",
       "21067        3094545  2018-12-07T12:00:00-05:00   \n",
       "21068        3091984  2018-12-05T12:00:00-05:00   \n",
       "21069        3133355  2019-01-25T12:00:00-05:00   \n",
       "21070        3110963  2018-12-27T12:00:00-05:00   \n",
       "21071        2001189  2016-07-06T12:00:00-05:00   \n",
       "\n",
       "                                 categoria  \\\n",
       "0                  Hipotecas / Empréstimos   \n",
       "1      Cartão de crédito / Cartão pré-pago   \n",
       "2      Cartão de crédito / Cartão pré-pago   \n",
       "3      Cartão de crédito / Cartão pré-pago   \n",
       "4               Serviços de conta bancária   \n",
       "...                                    ...   \n",
       "21067  Cartão de crédito / Cartão pré-pago   \n",
       "21068         Roubo / Relatório de disputa   \n",
       "21069         Roubo / Relatório de disputa   \n",
       "21070                               Outros   \n",
       "21071                               Outros   \n",
       "\n",
       "                                    descricao_reclamacao  \\\n",
       "0      Bom dia, meu nome é xxxx xxxx e agradeço se vo...   \n",
       "1      Atualizei meu cartão xxxx xxxx em xx/xx/2018 e...   \n",
       "2      O cartão Chase foi relatado em xx/xx/2019. No ...   \n",
       "3      Em xx/xx/2018, enquanto tentava reservar um ti...   \n",
       "4      Meu neto me dê cheque por {$ 1600,00} Eu depos...   \n",
       "...                                                  ...   \n",
       "21067  Depois de ser um cliente de cartão de persegui...   \n",
       "21068  Na quarta -feira, xx/xx/xxxx, liguei para o Ch...   \n",
       "21069  Não estou familiarizado com o XXXX Pay e não e...   \n",
       "21070  Eu tive crédito impecável por 30 anos. Eu tive...   \n",
       "21071  Mais de 10 anos atrás, encerrei minhas contas ...   \n",
       "\n",
       "                                                  tokens  \\\n",
       "0      [Bom, dia, ,, meu, nome, é, xxxx, xxxx, e, agr...   \n",
       "1      [Atualizei, meu, cartão, xxxx, xxxx, em, xx/xx...   \n",
       "2      [O, cartão, Chase, foi, relatado, em, xx/xx/20...   \n",
       "3      [Em, xx/xx/2018, ,, enquanto, tentava, reserva...   \n",
       "4      [Meu, neto, me, dê, cheque, por, {, $, 1600,00...   \n",
       "...                                                  ...   \n",
       "21067  [Depois, de, ser, um, cliente, de, cartão, de,...   \n",
       "21068  [Na, quarta, -feira, ,, xx/xx/xxxx, ,, liguei,...   \n",
       "21069  [Não, estou, familiarizado, com, o, XXXX, Pay,...   \n",
       "21070  [Eu, tive, crédito, impecável, por, 30, anos, ...   \n",
       "21071  [Mais, de, 10, anos, atrás, ,, encerrei, minha...   \n",
       "\n",
       "                                                 stemmer  \n",
       "0      bom dia , meu nom é xxxx xxxx e agradeç se voc...  \n",
       "1      atualiz meu cart xxxx xxxx em xx/xx/2018 e fui...  \n",
       "2      o cart chas foi relat em xx/xx/2019 . no entan...  \n",
       "3      em xx/xx/2018 , enquant tent reserv um ticket ...  \n",
       "4      meu net me dê chequ por { $ 1600,00 } eu depos...  \n",
       "...                                                  ...  \n",
       "21067  depois de ser um client de cart de persegu por...  \n",
       "21068  na quart -fe , xx/xx/xxxx , lig par o cha , me...  \n",
       "21069  não est familiar com o xxxx pay e não entend o...  \n",
       "21070  eu tiv crédit impec por 30 ano . eu tiv cart d...  \n",
       "21071  mais de 10 ano atrás , encerr minh cont com o ...  \n",
       "\n",
       "[21072 rows x 6 columns]"
      ]
     },
     "execution_count": 79,
     "metadata": {},
     "output_type": "execute_result"
    }
   ],
   "source": [
    "df"
   ]
  },
  {
   "cell_type": "code",
   "execution_count": 81,
   "id": "4331fcc8",
   "metadata": {},
   "outputs": [
    {
     "data": {
      "text/plain": [
       "<15804x20060 sparse matrix of type '<class 'numpy.int64'>'\n",
       "\twith 1640209 stored elements in Compressed Sparse Row format>"
      ]
     },
     "execution_count": 81,
     "metadata": {},
     "output_type": "execute_result"
    }
   ],
   "source": [
    "x_train"
   ]
  },
  {
   "cell_type": "code",
   "execution_count": 83,
   "id": "ac8a7fe0",
   "metadata": {},
   "outputs": [
    {
     "name": "stdout",
     "output_type": "stream",
     "text": [
      "Epoch 1/30\n",
      "494/494 [==============================] - 4s 7ms/step - loss: 0.5785 - accuracy: 0.8214 - val_loss: 0.4046 - val_accuracy: 0.8597\n",
      "Epoch 2/30\n",
      "494/494 [==============================] - 3s 6ms/step - loss: 0.2536 - accuracy: 0.9146 - val_loss: 0.3898 - val_accuracy: 0.8686\n",
      "Epoch 3/30\n",
      "494/494 [==============================] - 3s 6ms/step - loss: 0.1544 - accuracy: 0.9480 - val_loss: 0.4834 - val_accuracy: 0.8550\n",
      "Epoch 4/30\n",
      "494/494 [==============================] - 3s 6ms/step - loss: 0.1082 - accuracy: 0.9659 - val_loss: 0.4624 - val_accuracy: 0.8688\n",
      "Epoch 5/30\n",
      "494/494 [==============================] - 3s 6ms/step - loss: 0.0832 - accuracy: 0.9735 - val_loss: 0.5835 - val_accuracy: 0.8599\n",
      "Epoch 6/30\n",
      "494/494 [==============================] - 3s 6ms/step - loss: 0.0585 - accuracy: 0.9820 - val_loss: 0.6330 - val_accuracy: 0.8599\n",
      "Epoch 7/30\n",
      "494/494 [==============================] - 3s 6ms/step - loss: 0.0970 - accuracy: 0.9743 - val_loss: 0.5965 - val_accuracy: 0.8514\n",
      "Epoch 8/30\n",
      "494/494 [==============================] - 3s 6ms/step - loss: 0.0459 - accuracy: 0.9869 - val_loss: 0.7366 - val_accuracy: 0.8476\n",
      "Epoch 9/30\n",
      "494/494 [==============================] - 3s 6ms/step - loss: 0.0555 - accuracy: 0.9891 - val_loss: 0.6043 - val_accuracy: 0.8531\n",
      "Epoch 10/30\n",
      "494/494 [==============================] - 3s 6ms/step - loss: 0.0218 - accuracy: 0.9947 - val_loss: 0.6980 - val_accuracy: 0.8633\n",
      "Epoch 11/30\n",
      "494/494 [==============================] - 3s 6ms/step - loss: 0.0079 - accuracy: 0.9986 - val_loss: 0.7946 - val_accuracy: 0.8643\n",
      "Epoch 12/30\n",
      "494/494 [==============================] - 3s 6ms/step - loss: 0.0040 - accuracy: 0.9995 - val_loss: 0.8254 - val_accuracy: 0.8675\n",
      "Epoch 13/30\n",
      "494/494 [==============================] - 3s 6ms/step - loss: 0.0024 - accuracy: 0.9999 - val_loss: 0.8774 - val_accuracy: 0.8673\n",
      "Epoch 14/30\n",
      "494/494 [==============================] - 3s 6ms/step - loss: 0.0016 - accuracy: 0.9999 - val_loss: 0.9061 - val_accuracy: 0.8690\n",
      "Epoch 15/30\n",
      "494/494 [==============================] - 3s 6ms/step - loss: 0.0011 - accuracy: 1.0000 - val_loss: 0.9593 - val_accuracy: 0.8690\n",
      "Epoch 16/30\n",
      "494/494 [==============================] - 3s 6ms/step - loss: 6.6279e-04 - accuracy: 1.0000 - val_loss: 1.0115 - val_accuracy: 0.8688\n",
      "Epoch 17/30\n",
      "494/494 [==============================] - 3s 6ms/step - loss: 4.4343e-04 - accuracy: 1.0000 - val_loss: 1.0504 - val_accuracy: 0.8705\n",
      "Epoch 18/30\n",
      "494/494 [==============================] - 3s 6ms/step - loss: 3.0541e-04 - accuracy: 1.0000 - val_loss: 1.0967 - val_accuracy: 0.8698\n",
      "Epoch 19/30\n",
      "494/494 [==============================] - 3s 6ms/step - loss: 2.1663e-04 - accuracy: 1.0000 - val_loss: 1.1409 - val_accuracy: 0.8711\n",
      "Epoch 20/30\n",
      "494/494 [==============================] - 3s 6ms/step - loss: 1.6015e-04 - accuracy: 1.0000 - val_loss: 1.1768 - val_accuracy: 0.8707\n",
      "Epoch 20: early stopping\n"
     ]
    },
    {
     "data": {
      "text/plain": [
       "<keras.callbacks.History at 0x1d609d885e0>"
      ]
     },
     "execution_count": 83,
     "metadata": {},
     "output_type": "execute_result"
    }
   ],
   "source": [
    "## Vou utilizar o melhor modelo do primeiro teste\n",
    "y = df['categoria']\n",
    "x_train, x_test, y_train, y_test = train_test_split(vect, y, test_size=0.25, random_state=42)\n",
    "\n",
    "model = Sequential()\n",
    "\n",
    "model.add(Dense(64, activation='relu', input_dim=20060))\n",
    "model.add(Dense(32, activation='relu'))\n",
    "model.add(Dense(5, activation='softmax'))\n",
    "\n",
    "model.compile(loss=\"categorical_crossentropy\", optimizer='adam', metrics=\"accuracy\")\n",
    "\n",
    "es = EarlyStopping(monitor='val_loss', verbose=1, patience=18)\n",
    "mc = ModelCheckpoint('best_model_2.h5', monitor='val_loss', mode='min', save_best_only=True)\n",
    "model.fit(np.asarray(x_train.todense()), pd.get_dummies(y_train.values).values,\n",
    "          validation_data=(np.asarray(x_test.todense()), pd.get_dummies(y_test.values).values), \n",
    "          epochs=30,\n",
    "          callbacks=[es, mc])"
   ]
  },
  {
   "cell_type": "code",
   "execution_count": 84,
   "id": "70501995",
   "metadata": {},
   "outputs": [
    {
     "name": "stdout",
     "output_type": "stream",
     "text": [
      "494/494 [==============================] - 2s 3ms/step\n",
      "165/165 [==============================] - 1s 3ms/step\n",
      "Treino: 0.9626598875590856\n",
      "Teste: 0.8686972577779358\n"
     ]
    }
   ],
   "source": [
    "from tensorflow.keras.models import load_model\n",
    "model2 = load_model('best_model_2.h5')\n",
    "\n",
    "preds = model2.predict(np.asarray(x_train.todense())).argmax(axis=-1)\n",
    "preds_test = model2.predict(np.asarray(x_test.todense())).argmax(axis=-1)\n",
    "\n",
    "rotulos = {\"Cartão de crédito / Cartão pré-pago\": 0, \"Hipotecas / Empréstimos\": 1, \"Outros\": 2, \n",
    "           \"Roubo / Relatório de disputa\": 3, \"Serviços de conta bancária\": 4}\n",
    "\n",
    "gera_resultado(preds, y_train.map(rotulos), preds_test, y_test.map(rotulos))"
   ]
  },
  {
   "cell_type": "markdown",
   "id": "2f016a41",
   "metadata": {},
   "source": [
    "## Unindo bigram à stemmização\n",
    "---"
   ]
  },
  {
   "cell_type": "code",
   "execution_count": 10,
   "id": "453030ce",
   "metadata": {},
   "outputs": [
    {
     "data": {
      "text/plain": [
       "<21072x504625 sparse matrix of type '<class 'numpy.int64'>'\n",
       "\twith 4053009 stored elements in Compressed Sparse Row format>"
      ]
     },
     "execution_count": 10,
     "metadata": {},
     "output_type": "execute_result"
    }
   ],
   "source": [
    "vetorizador = CountVectorizer(ngram_range=(2,2))\n",
    "vetorizador.fit(df['stemmer'])\n",
    "vect = vetorizador.transform(df['stemmer'])\n",
    "vect"
   ]
  },
  {
   "cell_type": "code",
   "execution_count": 15,
   "id": "f9cdfebf",
   "metadata": {},
   "outputs": [
    {
     "data": {
      "text/plain": [
       "(21072, 504625)"
      ]
     },
     "execution_count": 15,
     "metadata": {},
     "output_type": "execute_result"
    }
   ],
   "source": [
    "vect.shape"
   ]
  },
  {
   "cell_type": "code",
   "execution_count": 16,
   "id": "f77dffa1",
   "metadata": {},
   "outputs": [
    {
     "ename": "MemoryError",
     "evalue": "Unable to allocate 59.4 GiB for an array with shape (15804, 504625) and data type int64",
     "output_type": "error",
     "traceback": [
      "\u001b[1;31m---------------------------------------------------------------------------\u001b[0m",
      "\u001b[1;31mMemoryError\u001b[0m                               Traceback (most recent call last)",
      "Input \u001b[1;32mIn [16]\u001b[0m, in \u001b[0;36m<cell line: 17>\u001b[1;34m()\u001b[0m\n\u001b[0;32m     15\u001b[0m es \u001b[38;5;241m=\u001b[39m EarlyStopping(monitor\u001b[38;5;241m=\u001b[39m\u001b[38;5;124m'\u001b[39m\u001b[38;5;124mval_loss\u001b[39m\u001b[38;5;124m'\u001b[39m, verbose\u001b[38;5;241m=\u001b[39m\u001b[38;5;241m1\u001b[39m, patience\u001b[38;5;241m=\u001b[39m\u001b[38;5;241m18\u001b[39m)\n\u001b[0;32m     16\u001b[0m mc \u001b[38;5;241m=\u001b[39m ModelCheckpoint(\u001b[38;5;124m'\u001b[39m\u001b[38;5;124mbest_model_3.h5\u001b[39m\u001b[38;5;124m'\u001b[39m, monitor\u001b[38;5;241m=\u001b[39m\u001b[38;5;124m'\u001b[39m\u001b[38;5;124mval_loss\u001b[39m\u001b[38;5;124m'\u001b[39m, mode\u001b[38;5;241m=\u001b[39m\u001b[38;5;124m'\u001b[39m\u001b[38;5;124mmin\u001b[39m\u001b[38;5;124m'\u001b[39m, save_best_only\u001b[38;5;241m=\u001b[39m\u001b[38;5;28;01mTrue\u001b[39;00m)\n\u001b[1;32m---> 17\u001b[0m model\u001b[38;5;241m.\u001b[39mfit(np\u001b[38;5;241m.\u001b[39masarray(\u001b[43mx_train\u001b[49m\u001b[38;5;241;43m.\u001b[39;49m\u001b[43mtodense\u001b[49m\u001b[43m(\u001b[49m\u001b[43m)\u001b[49m), pd\u001b[38;5;241m.\u001b[39mget_dummies(y_train\u001b[38;5;241m.\u001b[39mvalues)\u001b[38;5;241m.\u001b[39mvalues,\n\u001b[0;32m     18\u001b[0m           validation_data\u001b[38;5;241m=\u001b[39m(np\u001b[38;5;241m.\u001b[39masarray(x_test\u001b[38;5;241m.\u001b[39mtodense()), pd\u001b[38;5;241m.\u001b[39mget_dummies(y_test\u001b[38;5;241m.\u001b[39mvalues)\u001b[38;5;241m.\u001b[39mvalues), \n\u001b[0;32m     19\u001b[0m           epochs\u001b[38;5;241m=\u001b[39m\u001b[38;5;241m30\u001b[39m,\n\u001b[0;32m     20\u001b[0m           callbacks\u001b[38;5;241m=\u001b[39m[es, mc])\n",
      "File \u001b[1;32m~\\anaconda3\\envs\\gpu2\\lib\\site-packages\\scipy\\sparse\\_base.py:946\u001b[0m, in \u001b[0;36mspmatrix.todense\u001b[1;34m(self, order, out)\u001b[0m\n\u001b[0;32m    916\u001b[0m \u001b[38;5;28;01mdef\u001b[39;00m \u001b[38;5;21mtodense\u001b[39m(\u001b[38;5;28mself\u001b[39m, order\u001b[38;5;241m=\u001b[39m\u001b[38;5;28;01mNone\u001b[39;00m, out\u001b[38;5;241m=\u001b[39m\u001b[38;5;28;01mNone\u001b[39;00m):\n\u001b[0;32m    917\u001b[0m     \u001b[38;5;124;03m\"\"\"\u001b[39;00m\n\u001b[0;32m    918\u001b[0m \u001b[38;5;124;03m    Return a dense matrix representation of this matrix.\u001b[39;00m\n\u001b[0;32m    919\u001b[0m \n\u001b[1;32m   (...)\u001b[0m\n\u001b[0;32m    944\u001b[0m \u001b[38;5;124;03m        `numpy.matrix` object that shares the same memory.\u001b[39;00m\n\u001b[0;32m    945\u001b[0m \u001b[38;5;124;03m    \"\"\"\u001b[39;00m\n\u001b[1;32m--> 946\u001b[0m     \u001b[38;5;28;01mreturn\u001b[39;00m \u001b[38;5;28mself\u001b[39m\u001b[38;5;241m.\u001b[39m_ascontainer(\u001b[38;5;28;43mself\u001b[39;49m\u001b[38;5;241;43m.\u001b[39;49m\u001b[43mtoarray\u001b[49m\u001b[43m(\u001b[49m\u001b[43morder\u001b[49m\u001b[38;5;241;43m=\u001b[39;49m\u001b[43morder\u001b[49m\u001b[43m,\u001b[49m\u001b[43m \u001b[49m\u001b[43mout\u001b[49m\u001b[38;5;241;43m=\u001b[39;49m\u001b[43mout\u001b[49m\u001b[43m)\u001b[49m)\n",
      "File \u001b[1;32m~\\anaconda3\\envs\\gpu2\\lib\\site-packages\\scipy\\sparse\\_compressed.py:1051\u001b[0m, in \u001b[0;36m_cs_matrix.toarray\u001b[1;34m(self, order, out)\u001b[0m\n\u001b[0;32m   1049\u001b[0m \u001b[38;5;28;01mif\u001b[39;00m out \u001b[38;5;129;01mis\u001b[39;00m \u001b[38;5;28;01mNone\u001b[39;00m \u001b[38;5;129;01mand\u001b[39;00m order \u001b[38;5;129;01mis\u001b[39;00m \u001b[38;5;28;01mNone\u001b[39;00m:\n\u001b[0;32m   1050\u001b[0m     order \u001b[38;5;241m=\u001b[39m \u001b[38;5;28mself\u001b[39m\u001b[38;5;241m.\u001b[39m_swap(\u001b[38;5;124m'\u001b[39m\u001b[38;5;124mcf\u001b[39m\u001b[38;5;124m'\u001b[39m)[\u001b[38;5;241m0\u001b[39m]\n\u001b[1;32m-> 1051\u001b[0m out \u001b[38;5;241m=\u001b[39m \u001b[38;5;28;43mself\u001b[39;49m\u001b[38;5;241;43m.\u001b[39;49m\u001b[43m_process_toarray_args\u001b[49m\u001b[43m(\u001b[49m\u001b[43morder\u001b[49m\u001b[43m,\u001b[49m\u001b[43m \u001b[49m\u001b[43mout\u001b[49m\u001b[43m)\u001b[49m\n\u001b[0;32m   1052\u001b[0m \u001b[38;5;28;01mif\u001b[39;00m \u001b[38;5;129;01mnot\u001b[39;00m (out\u001b[38;5;241m.\u001b[39mflags\u001b[38;5;241m.\u001b[39mc_contiguous \u001b[38;5;129;01mor\u001b[39;00m out\u001b[38;5;241m.\u001b[39mflags\u001b[38;5;241m.\u001b[39mf_contiguous):\n\u001b[0;32m   1053\u001b[0m     \u001b[38;5;28;01mraise\u001b[39;00m \u001b[38;5;167;01mValueError\u001b[39;00m(\u001b[38;5;124m'\u001b[39m\u001b[38;5;124mOutput array must be C or F contiguous\u001b[39m\u001b[38;5;124m'\u001b[39m)\n",
      "File \u001b[1;32m~\\anaconda3\\envs\\gpu2\\lib\\site-packages\\scipy\\sparse\\_base.py:1298\u001b[0m, in \u001b[0;36mspmatrix._process_toarray_args\u001b[1;34m(self, order, out)\u001b[0m\n\u001b[0;32m   1296\u001b[0m     \u001b[38;5;28;01mreturn\u001b[39;00m out\n\u001b[0;32m   1297\u001b[0m \u001b[38;5;28;01melse\u001b[39;00m:\n\u001b[1;32m-> 1298\u001b[0m     \u001b[38;5;28;01mreturn\u001b[39;00m \u001b[43mnp\u001b[49m\u001b[38;5;241;43m.\u001b[39;49m\u001b[43mzeros\u001b[49m\u001b[43m(\u001b[49m\u001b[38;5;28;43mself\u001b[39;49m\u001b[38;5;241;43m.\u001b[39;49m\u001b[43mshape\u001b[49m\u001b[43m,\u001b[49m\u001b[43m \u001b[49m\u001b[43mdtype\u001b[49m\u001b[38;5;241;43m=\u001b[39;49m\u001b[38;5;28;43mself\u001b[39;49m\u001b[38;5;241;43m.\u001b[39;49m\u001b[43mdtype\u001b[49m\u001b[43m,\u001b[49m\u001b[43m \u001b[49m\u001b[43morder\u001b[49m\u001b[38;5;241;43m=\u001b[39;49m\u001b[43morder\u001b[49m\u001b[43m)\u001b[49m\n",
      "\u001b[1;31mMemoryError\u001b[0m: Unable to allocate 59.4 GiB for an array with shape (15804, 504625) and data type int64"
     ]
    }
   ],
   "source": [
    "## Vou utilizar o melhor modelo do primeiro teste\n",
    "from sklearn.model_selection import train_test_split\n",
    "y = df['categoria']\n",
    "x_train, x_test, y_train, y_test = train_test_split(vect, y, test_size=0.25, random_state=42)\n",
    "\n",
    "\n",
    "model = Sequential()\n",
    "\n",
    "model.add(Dense(64, activation='relu', input_dim=504625))\n",
    "model.add(Dense(32, activation='relu'))\n",
    "model.add(Dense(5, activation='softmax'))\n",
    "\n",
    "model.compile(loss=\"categorical_crossentropy\", optimizer='adam', metrics=\"accuracy\")\n",
    "\n",
    "es = EarlyStopping(monitor='val_loss', verbose=1, patience=18)\n",
    "mc = ModelCheckpoint('best_model_3.h5', monitor='val_loss', mode='min', save_best_only=True)\n",
    "model.fit(np.asarray(x_train.todense()), pd.get_dummies(y_train.values).values,\n",
    "          validation_data=(np.asarray(x_test.todense()), pd.get_dummies(y_test.values).values), \n",
    "          epochs=30,\n",
    "          callbacks=[es, mc])\n",
    "\n",
    "## Não consegui rodar... "
   ]
  },
  {
   "cell_type": "code",
   "execution_count": null,
   "id": "d71ee371",
   "metadata": {},
   "outputs": [],
   "source": []
  },
  {
   "cell_type": "markdown",
   "id": "90cdb6e9",
   "metadata": {},
   "source": [
    "## Testando com algumas classes gramáticais apenas\n",
    "\n",
    "- Adj\n",
    "- Verb\n",
    "- subs"
   ]
  },
  {
   "cell_type": "code",
   "execution_count": 9,
   "id": "c748af3a",
   "metadata": {},
   "outputs": [],
   "source": [
    "import spacy\n",
    "pt = spacy.load('pt_core_news_lg')\n",
    "\n",
    "def helper_pos_tag(texto):\n",
    "    pos_tag = [str(token) if str(token.pos_) in [\"ADJ\", 'NOUN', 'VERB'] else '' for token in pt(texto)]\n",
    "    pos_tag = list(filter(lambda valor: valor if valor != '' else None, pos_tag))\n",
    "    \n",
    "    return \" \".join(pos_tag)\n",
    "\n",
    "df['pos_tag'] = df['descricao_reclamacao'].apply(helper_pos_tag)"
   ]
  },
  {
   "cell_type": "code",
   "execution_count": 10,
   "id": "0858d21e",
   "metadata": {},
   "outputs": [
    {
     "data": {
      "text/plain": [
       "'Bom dia nome agradeço puder ajudar acabar serviços membro cartão bancário 2018 escrevi solicitar verificação dívida enviaram declaração aceitável pedindo banco valide dívida vez recebi meses tentando coletar dívida Tenho direito conhecer informações consumidor Conta Obrigado ajuda'"
      ]
     },
     "execution_count": 10,
     "metadata": {},
     "output_type": "execute_result"
    }
   ],
   "source": [
    "df['pos_tag'].iloc[0]"
   ]
  },
  {
   "cell_type": "code",
   "execution_count": 8,
   "id": "d66787ad",
   "metadata": {},
   "outputs": [],
   "source": [
    "df.to_csv('df_pos_tag.csv', index=False)"
   ]
  },
  {
   "cell_type": "code",
   "execution_count": 11,
   "id": "1fc0846f",
   "metadata": {},
   "outputs": [
    {
     "data": {
      "text/plain": [
       "<21072x32345 sparse matrix of type '<class 'numpy.int64'>'\n",
       "\twith 1459384 stored elements in Compressed Sparse Row format>"
      ]
     },
     "execution_count": 11,
     "metadata": {},
     "output_type": "execute_result"
    }
   ],
   "source": [
    "vetorizador = CountVectorizer(ngram_range=(1,1))\n",
    "vetorizador.fit(df['pos_tag'])\n",
    "vect = vetorizador.transform(df['pos_tag'])\n",
    "vect"
   ]
  },
  {
   "cell_type": "code",
   "execution_count": 14,
   "id": "e36b8deb",
   "metadata": {},
   "outputs": [
    {
     "name": "stdout",
     "output_type": "stream",
     "text": [
      "Epoch 1/30\n",
      "494/494 [==============================] - 4s 7ms/step - loss: 0.6407 - accuracy: 0.7978 - val_loss: 0.3482 - val_accuracy: 0.8869\n",
      "Epoch 2/30\n",
      "494/494 [==============================] - 3s 7ms/step - loss: 0.2596 - accuracy: 0.9238 - val_loss: 0.3461 - val_accuracy: 0.8880\n",
      "Epoch 3/30\n",
      "494/494 [==============================] - 3s 7ms/step - loss: 0.1449 - accuracy: 0.9586 - val_loss: 0.4087 - val_accuracy: 0.8787\n",
      "Epoch 4/30\n",
      "494/494 [==============================] - 3s 7ms/step - loss: 0.0877 - accuracy: 0.9748 - val_loss: 0.4513 - val_accuracy: 0.8812\n",
      "Epoch 5/30\n",
      "494/494 [==============================] - 3s 7ms/step - loss: 0.0688 - accuracy: 0.9813 - val_loss: 0.5012 - val_accuracy: 0.8787\n",
      "Epoch 6/30\n",
      "494/494 [==============================] - 3s 7ms/step - loss: 0.0531 - accuracy: 0.9861 - val_loss: 0.5596 - val_accuracy: 0.8772\n",
      "Epoch 7/30\n",
      "494/494 [==============================] - 3s 7ms/step - loss: 0.0393 - accuracy: 0.9896 - val_loss: 0.6804 - val_accuracy: 0.8717\n",
      "Epoch 8/30\n",
      "494/494 [==============================] - 3s 7ms/step - loss: 0.0347 - accuracy: 0.9906 - val_loss: 0.6077 - val_accuracy: 0.8732\n",
      "Epoch 9/30\n",
      "494/494 [==============================] - 3s 7ms/step - loss: 0.0353 - accuracy: 0.9913 - val_loss: 0.6867 - val_accuracy: 0.8692\n",
      "Epoch 10/30\n",
      "494/494 [==============================] - 3s 7ms/step - loss: 0.0312 - accuracy: 0.9921 - val_loss: 0.6598 - val_accuracy: 0.8736\n",
      "Epoch 11/30\n",
      "494/494 [==============================] - 3s 7ms/step - loss: 0.0233 - accuracy: 0.9941 - val_loss: 0.7617 - val_accuracy: 0.8715\n",
      "Epoch 12/30\n",
      "494/494 [==============================] - 4s 7ms/step - loss: 0.0270 - accuracy: 0.9935 - val_loss: 0.7950 - val_accuracy: 0.8647\n",
      "Epoch 13/30\n",
      "494/494 [==============================] - 3s 7ms/step - loss: 0.0194 - accuracy: 0.9953 - val_loss: 0.8155 - val_accuracy: 0.8666\n",
      "Epoch 14/30\n",
      "494/494 [==============================] - 3s 7ms/step - loss: 0.0225 - accuracy: 0.9942 - val_loss: 0.8218 - val_accuracy: 0.8650\n",
      "Epoch 15/30\n",
      "494/494 [==============================] - 3s 7ms/step - loss: 0.0191 - accuracy: 0.9947 - val_loss: 0.8620 - val_accuracy: 0.8681\n",
      "Epoch 16/30\n",
      "494/494 [==============================] - 3s 7ms/step - loss: 0.0152 - accuracy: 0.9957 - val_loss: 0.9128 - val_accuracy: 0.8656\n",
      "Epoch 17/30\n",
      "494/494 [==============================] - 3s 7ms/step - loss: 0.0138 - accuracy: 0.9968 - val_loss: 0.9003 - val_accuracy: 0.8719\n",
      "Epoch 18/30\n",
      "494/494 [==============================] - 4s 7ms/step - loss: 0.0243 - accuracy: 0.9956 - val_loss: 0.9654 - val_accuracy: 0.8662\n",
      "Epoch 19/30\n",
      "494/494 [==============================] - 3s 7ms/step - loss: 0.0225 - accuracy: 0.9939 - val_loss: 0.9382 - val_accuracy: 0.8650\n",
      "Epoch 20/30\n",
      "494/494 [==============================] - 3s 7ms/step - loss: 0.0151 - accuracy: 0.9961 - val_loss: 0.9561 - val_accuracy: 0.8667\n",
      "Epoch 00020: early stopping\n"
     ]
    },
    {
     "data": {
      "text/plain": [
       "<tensorflow.python.keras.callbacks.History at 0x1aa01150400>"
      ]
     },
     "execution_count": 14,
     "metadata": {},
     "output_type": "execute_result"
    }
   ],
   "source": [
    "from sklearn.model_selection import train_test_split\n",
    "y = df['categoria']\n",
    "x_train, x_test, y_train, y_test = train_test_split(vect, y, test_size=0.25, random_state=42)\n",
    "\n",
    "\n",
    "model = Sequential()\n",
    "\n",
    "model.add(Dense(64, activation='relu', input_dim=32345))\n",
    "model.add(Dropout(.3))\n",
    "model.add(Dense(32, activation='relu'))\n",
    "model.add(Dropout(.3))\n",
    "model.add(Dense(5, activation='softmax'))\n",
    "\n",
    "model.compile(loss=\"categorical_crossentropy\", optimizer='adam', metrics=\"accuracy\")\n",
    "\n",
    "es = EarlyStopping(monitor='val_loss', verbose=1, patience=18)\n",
    "mc = ModelCheckpoint('best_model_3.h5', monitor='val_loss', mode='min', save_best_only=True)\n",
    "model.fit(np.asarray(x_train.todense()), pd.get_dummies(y_train.values).values,\n",
    "          validation_data=(np.asarray(x_test.todense()), pd.get_dummies(y_test.values).values), \n",
    "          epochs=30,\n",
    "          callbacks=[es, mc])"
   ]
  },
  {
   "cell_type": "markdown",
   "id": "ea8b9a9b",
   "metadata": {},
   "source": [
    "## Usando frequencia"
   ]
  },
  {
   "cell_type": "code",
   "execution_count": 16,
   "id": "3ee08be2",
   "metadata": {},
   "outputs": [
    {
     "data": {
      "text/plain": [
       "<21072x32655 sparse matrix of type '<class 'numpy.float64'>'\n",
       "\twith 1434794 stored elements in Compressed Sparse Row format>"
      ]
     },
     "execution_count": 16,
     "metadata": {},
     "output_type": "execute_result"
    }
   ],
   "source": [
    "from sklearn.feature_extraction.text import TfidfVectorizer\n",
    "\n",
    "vect = TfidfVectorizer(ngram_range=(1,1), use_idf=False, norm='l1', stop_words=stop_words)\n",
    "vect.fit(df['pos_tag'])\n",
    "vect = vect.transform(df['pos_tag'])\n",
    "vect"
   ]
  },
  {
   "cell_type": "code",
   "execution_count": 57,
   "id": "b42180b5",
   "metadata": {},
   "outputs": [
    {
     "name": "stdout",
     "output_type": "stream",
     "text": [
      "Epoch 1/30\n",
      "494/494 [==============================] - 5s 9ms/step - loss: 1.1229 - accuracy: 0.5967 - val_loss: 0.5655 - val_accuracy: 0.8229\n",
      "Epoch 2/30\n",
      "494/494 [==============================] - 4s 8ms/step - loss: 0.4712 - accuracy: 0.8478 - val_loss: 0.3370 - val_accuracy: 0.8890\n",
      "Epoch 3/30\n",
      "494/494 [==============================] - 4s 7ms/step - loss: 0.3048 - accuracy: 0.9046 - val_loss: 0.3027 - val_accuracy: 0.8962\n",
      "Epoch 4/30\n",
      "494/494 [==============================] - 4s 7ms/step - loss: 0.2226 - accuracy: 0.9334 - val_loss: 0.2953 - val_accuracy: 0.9003\n",
      "Epoch 5/30\n",
      "494/494 [==============================] - 4s 7ms/step - loss: 0.1662 - accuracy: 0.9536 - val_loss: 0.3019 - val_accuracy: 0.8965\n",
      "Epoch 6/30\n",
      "494/494 [==============================] - 4s 7ms/step - loss: 0.1249 - accuracy: 0.9650 - val_loss: 0.3164 - val_accuracy: 0.8948\n",
      "Epoch 7/30\n",
      "494/494 [==============================] - 4s 7ms/step - loss: 0.0933 - accuracy: 0.9757 - val_loss: 0.3360 - val_accuracy: 0.8933\n",
      "Epoch 8/30\n",
      "494/494 [==============================] - 4s 7ms/step - loss: 0.0736 - accuracy: 0.9815 - val_loss: 0.3556 - val_accuracy: 0.8924\n",
      "Epoch 9/30\n",
      "494/494 [==============================] - 4s 7ms/step - loss: 0.0577 - accuracy: 0.9864 - val_loss: 0.3769 - val_accuracy: 0.8872\n",
      "Epoch 10/30\n",
      "494/494 [==============================] - 4s 7ms/step - loss: 0.0455 - accuracy: 0.9885 - val_loss: 0.3960 - val_accuracy: 0.8912\n",
      "Epoch 11/30\n",
      "494/494 [==============================] - 4s 7ms/step - loss: 0.0364 - accuracy: 0.9920 - val_loss: 0.4277 - val_accuracy: 0.8836\n",
      "Epoch 12/30\n",
      "494/494 [==============================] - 4s 7ms/step - loss: 0.0331 - accuracy: 0.9928 - val_loss: 0.4515 - val_accuracy: 0.8836\n",
      "Epoch 13/30\n",
      "494/494 [==============================] - 4s 7ms/step - loss: 0.0258 - accuracy: 0.9948 - val_loss: 0.4621 - val_accuracy: 0.8853\n",
      "Epoch 14/30\n",
      "494/494 [==============================] - 4s 7ms/step - loss: 0.0204 - accuracy: 0.9954 - val_loss: 0.4843 - val_accuracy: 0.8787\n",
      "Epoch 15/30\n",
      "494/494 [==============================] - 4s 7ms/step - loss: 0.0218 - accuracy: 0.9952 - val_loss: 0.5034 - val_accuracy: 0.8819\n",
      "Epoch 16/30\n",
      "494/494 [==============================] - 4s 7ms/step - loss: 0.0175 - accuracy: 0.9959 - val_loss: 0.5379 - val_accuracy: 0.8793\n",
      "Epoch 17/30\n",
      "494/494 [==============================] - 4s 7ms/step - loss: 0.0163 - accuracy: 0.9967 - val_loss: 0.5422 - val_accuracy: 0.8827\n",
      "Epoch 18/30\n",
      "494/494 [==============================] - 4s 7ms/step - loss: 0.0127 - accuracy: 0.9975 - val_loss: 0.5633 - val_accuracy: 0.8819\n",
      "Epoch 19/30\n",
      "494/494 [==============================] - 4s 7ms/step - loss: 0.0125 - accuracy: 0.9975 - val_loss: 0.5756 - val_accuracy: 0.8819\n",
      "Epoch 20/30\n",
      "494/494 [==============================] - 4s 7ms/step - loss: 0.0117 - accuracy: 0.9977 - val_loss: 0.6002 - val_accuracy: 0.8779\n",
      "Epoch 21/30\n",
      "494/494 [==============================] - 4s 8ms/step - loss: 0.0098 - accuracy: 0.9980 - val_loss: 0.6215 - val_accuracy: 0.8785\n",
      "Epoch 22/30\n",
      "494/494 [==============================] - 4s 8ms/step - loss: 0.0090 - accuracy: 0.9979 - val_loss: 0.6315 - val_accuracy: 0.8772\n",
      "Epoch 22: early stopping\n"
     ]
    },
    {
     "data": {
      "text/plain": [
       "<keras.callbacks.History at 0x1b97c15c430>"
      ]
     },
     "execution_count": 57,
     "metadata": {},
     "output_type": "execute_result"
    }
   ],
   "source": [
    "y = df['categoria']\n",
    "x_train, x_test, y_train, y_test = train_test_split(vect, y, test_size=0.25, random_state=42)\n",
    "\n",
    "\n",
    "model = Sequential()\n",
    "\n",
    "model.add(Dense(64, activation='relu', input_dim=32655))\n",
    "model.add(Dropout(.3))\n",
    "model.add(Dense(32, activation='relu'))\n",
    "model.add(Dropout(.3))\n",
    "model.add(Dense(5, activation='softmax'))\n",
    "\n",
    "model.compile(loss=\"categorical_crossentropy\", optimizer='adam', metrics=\"accuracy\")\n",
    "\n",
    "es = EarlyStopping(monitor='val_loss', verbose=1, patience=18)\n",
    "mc = ModelCheckpoint('best_model_4.h5', monitor='val_loss', mode='min', save_best_only=True)\n",
    "model.fit(np.asarray(x_train.todense()), pd.get_dummies(y_train.values).values,\n",
    "          validation_data=(np.asarray(x_test.todense()), pd.get_dummies(y_test.values).values), \n",
    "          epochs=30,\n",
    "          callbacks=[es, mc])"
   ]
  },
  {
   "cell_type": "code",
   "execution_count": 58,
   "id": "da46ebe2",
   "metadata": {},
   "outputs": [
    {
     "data": {
      "text/plain": [
       "<21072x32655 sparse matrix of type '<class 'numpy.float64'>'\n",
       "\twith 1434794 stored elements in Compressed Sparse Row format>"
      ]
     },
     "execution_count": 58,
     "metadata": {},
     "output_type": "execute_result"
    }
   ],
   "source": [
    "from sklearn.feature_extraction.text import TfidfVectorizer\n",
    "\n",
    "vect = TfidfVectorizer(ngram_range=(1,1), use_idf=True, norm='l1', stop_words=stop_words)\n",
    "vect.fit(df['pos_tag'])\n",
    "vect = vect.transform(df['pos_tag'])\n",
    "vect"
   ]
  },
  {
   "cell_type": "code",
   "execution_count": 59,
   "id": "3dff42b9",
   "metadata": {},
   "outputs": [
    {
     "name": "stdout",
     "output_type": "stream",
     "text": [
      "Epoch 1/30\n",
      "494/494 [==============================] - 5s 10ms/step - loss: 1.2685 - accuracy: 0.5240 - val_loss: 0.7063 - val_accuracy: 0.8013\n",
      "Epoch 2/30\n",
      "494/494 [==============================] - 4s 8ms/step - loss: 0.5394 - accuracy: 0.8328 - val_loss: 0.3998 - val_accuracy: 0.8703\n",
      "Epoch 3/30\n",
      "494/494 [==============================] - 4s 7ms/step - loss: 0.3104 - accuracy: 0.9066 - val_loss: 0.3497 - val_accuracy: 0.8772\n",
      "Epoch 4/30\n",
      "494/494 [==============================] - 4s 7ms/step - loss: 0.1988 - accuracy: 0.9454 - val_loss: 0.3469 - val_accuracy: 0.8802\n",
      "Epoch 5/30\n",
      "494/494 [==============================] - 4s 7ms/step - loss: 0.1334 - accuracy: 0.9651 - val_loss: 0.3573 - val_accuracy: 0.8781\n",
      "Epoch 6/30\n",
      "494/494 [==============================] - 4s 7ms/step - loss: 0.0940 - accuracy: 0.9772 - val_loss: 0.3758 - val_accuracy: 0.8743\n",
      "Epoch 7/30\n",
      "494/494 [==============================] - 4s 7ms/step - loss: 0.0657 - accuracy: 0.9859 - val_loss: 0.3970 - val_accuracy: 0.8740\n",
      "Epoch 8/30\n",
      "494/494 [==============================] - 4s 7ms/step - loss: 0.0511 - accuracy: 0.9896 - val_loss: 0.4213 - val_accuracy: 0.8726\n",
      "Epoch 9/30\n",
      "494/494 [==============================] - 4s 7ms/step - loss: 0.0390 - accuracy: 0.9923 - val_loss: 0.4551 - val_accuracy: 0.8722\n",
      "Epoch 10/30\n",
      "494/494 [==============================] - 4s 7ms/step - loss: 0.0304 - accuracy: 0.9948 - val_loss: 0.4753 - val_accuracy: 0.8722\n",
      "Epoch 11/30\n",
      "494/494 [==============================] - 4s 7ms/step - loss: 0.0238 - accuracy: 0.9956 - val_loss: 0.5085 - val_accuracy: 0.8698\n",
      "Epoch 12/30\n",
      "494/494 [==============================] - 4s 7ms/step - loss: 0.0203 - accuracy: 0.9957 - val_loss: 0.5436 - val_accuracy: 0.8652\n",
      "Epoch 13/30\n",
      "494/494 [==============================] - 4s 7ms/step - loss: 0.0171 - accuracy: 0.9972 - val_loss: 0.5597 - val_accuracy: 0.8675\n",
      "Epoch 14/30\n",
      "494/494 [==============================] - 4s 7ms/step - loss: 0.0122 - accuracy: 0.9975 - val_loss: 0.5947 - val_accuracy: 0.8610\n",
      "Epoch 15/30\n",
      "494/494 [==============================] - 4s 7ms/step - loss: 0.0148 - accuracy: 0.9974 - val_loss: 0.6219 - val_accuracy: 0.8650\n",
      "Epoch 16/30\n",
      "494/494 [==============================] - 4s 7ms/step - loss: 0.0117 - accuracy: 0.9975 - val_loss: 0.6403 - val_accuracy: 0.8595\n",
      "Epoch 17/30\n",
      "494/494 [==============================] - 4s 7ms/step - loss: 0.0101 - accuracy: 0.9978 - val_loss: 0.6567 - val_accuracy: 0.8626\n",
      "Epoch 18/30\n",
      "494/494 [==============================] - 4s 7ms/step - loss: 0.0084 - accuracy: 0.9985 - val_loss: 0.6894 - val_accuracy: 0.8610\n",
      "Epoch 19/30\n",
      "494/494 [==============================] - 4s 7ms/step - loss: 0.0076 - accuracy: 0.9982 - val_loss: 0.7028 - val_accuracy: 0.8631\n",
      "Epoch 20/30\n",
      "494/494 [==============================] - 4s 7ms/step - loss: 0.0082 - accuracy: 0.9986 - val_loss: 0.7160 - val_accuracy: 0.8603\n",
      "Epoch 21/30\n",
      "494/494 [==============================] - 4s 7ms/step - loss: 0.0055 - accuracy: 0.9989 - val_loss: 0.7870 - val_accuracy: 0.8536\n",
      "Epoch 22/30\n",
      "494/494 [==============================] - 4s 7ms/step - loss: 0.0046 - accuracy: 0.9991 - val_loss: 0.7662 - val_accuracy: 0.8584\n",
      "Epoch 22: early stopping\n"
     ]
    },
    {
     "data": {
      "text/plain": [
       "<keras.callbacks.History at 0x1b985b092d0>"
      ]
     },
     "execution_count": 59,
     "metadata": {},
     "output_type": "execute_result"
    }
   ],
   "source": [
    "y = df['categoria']\n",
    "x_train, x_test, y_train, y_test = train_test_split(vect, y, test_size=0.25, random_state=42)\n",
    "\n",
    "\n",
    "model = Sequential()\n",
    "\n",
    "model.add(Dense(64, activation='relu', input_dim=32655))\n",
    "model.add(Dropout(.3))\n",
    "model.add(Dense(32, activation='relu'))\n",
    "model.add(Dropout(.3))\n",
    "model.add(Dense(5, activation='softmax'))\n",
    "\n",
    "model.compile(loss=\"categorical_crossentropy\", optimizer='adam', metrics=\"accuracy\")\n",
    "\n",
    "es = EarlyStopping(monitor='val_loss', verbose=1, patience=18)\n",
    "mc = ModelCheckpoint('best_model_5.h5', monitor='val_loss', mode='min', save_best_only=True)\n",
    "model.fit(np.asarray(x_train.todense()), pd.get_dummies(y_train.values).values,\n",
    "          validation_data=(np.asarray(x_test.todense()), pd.get_dummies(y_test.values).values), \n",
    "          epochs=30,\n",
    "          callbacks=[es, mc])"
   ]
  },
  {
   "cell_type": "markdown",
   "id": "faaf71e1",
   "metadata": {},
   "source": [
    "## Testando TF na stemmização\n",
    "---"
   ]
  },
  {
   "cell_type": "code",
   "execution_count": 10,
   "id": "8ccb6e92",
   "metadata": {},
   "outputs": [
    {
     "ename": "KeyError",
     "evalue": "'stemmer'",
     "output_type": "error",
     "traceback": [
      "\u001b[1;31m---------------------------------------------------------------------------\u001b[0m",
      "\u001b[1;31mKeyError\u001b[0m                                  Traceback (most recent call last)",
      "File \u001b[1;32m~\\anaconda3\\envs\\gpu\\lib\\site-packages\\pandas\\core\\indexes\\base.py:3803\u001b[0m, in \u001b[0;36mIndex.get_loc\u001b[1;34m(self, key, method, tolerance)\u001b[0m\n\u001b[0;32m   3802\u001b[0m \u001b[38;5;28;01mtry\u001b[39;00m:\n\u001b[1;32m-> 3803\u001b[0m     \u001b[38;5;28;01mreturn\u001b[39;00m \u001b[38;5;28;43mself\u001b[39;49m\u001b[38;5;241;43m.\u001b[39;49m\u001b[43m_engine\u001b[49m\u001b[38;5;241;43m.\u001b[39;49m\u001b[43mget_loc\u001b[49m\u001b[43m(\u001b[49m\u001b[43mcasted_key\u001b[49m\u001b[43m)\u001b[49m\n\u001b[0;32m   3804\u001b[0m \u001b[38;5;28;01mexcept\u001b[39;00m \u001b[38;5;167;01mKeyError\u001b[39;00m \u001b[38;5;28;01mas\u001b[39;00m err:\n",
      "File \u001b[1;32m~\\anaconda3\\envs\\gpu\\lib\\site-packages\\pandas\\_libs\\index.pyx:138\u001b[0m, in \u001b[0;36mpandas._libs.index.IndexEngine.get_loc\u001b[1;34m()\u001b[0m\n",
      "File \u001b[1;32m~\\anaconda3\\envs\\gpu\\lib\\site-packages\\pandas\\_libs\\index.pyx:165\u001b[0m, in \u001b[0;36mpandas._libs.index.IndexEngine.get_loc\u001b[1;34m()\u001b[0m\n",
      "File \u001b[1;32mpandas\\_libs\\hashtable_class_helper.pxi:5745\u001b[0m, in \u001b[0;36mpandas._libs.hashtable.PyObjectHashTable.get_item\u001b[1;34m()\u001b[0m\n",
      "File \u001b[1;32mpandas\\_libs\\hashtable_class_helper.pxi:5753\u001b[0m, in \u001b[0;36mpandas._libs.hashtable.PyObjectHashTable.get_item\u001b[1;34m()\u001b[0m\n",
      "\u001b[1;31mKeyError\u001b[0m: 'stemmer'",
      "\nThe above exception was the direct cause of the following exception:\n",
      "\u001b[1;31mKeyError\u001b[0m                                  Traceback (most recent call last)",
      "Input \u001b[1;32mIn [10]\u001b[0m, in \u001b[0;36m<cell line: 4>\u001b[1;34m()\u001b[0m\n\u001b[0;32m      1\u001b[0m \u001b[38;5;28;01mfrom\u001b[39;00m \u001b[38;5;21;01msklearn\u001b[39;00m\u001b[38;5;21;01m.\u001b[39;00m\u001b[38;5;21;01mfeature_extraction\u001b[39;00m\u001b[38;5;21;01m.\u001b[39;00m\u001b[38;5;21;01mtext\u001b[39;00m \u001b[38;5;28;01mimport\u001b[39;00m TfidfVectorizer\n\u001b[0;32m      3\u001b[0m vect \u001b[38;5;241m=\u001b[39m TfidfVectorizer(ngram_range\u001b[38;5;241m=\u001b[39m(\u001b[38;5;241m1\u001b[39m,\u001b[38;5;241m1\u001b[39m), use_idf\u001b[38;5;241m=\u001b[39m\u001b[38;5;28;01mTrue\u001b[39;00m, norm\u001b[38;5;241m=\u001b[39m\u001b[38;5;124m'\u001b[39m\u001b[38;5;124ml1\u001b[39m\u001b[38;5;124m'\u001b[39m, stop_words\u001b[38;5;241m=\u001b[39mstop_words)\n\u001b[1;32m----> 4\u001b[0m vect\u001b[38;5;241m.\u001b[39mfit(\u001b[43mdf\u001b[49m\u001b[43m[\u001b[49m\u001b[38;5;124;43m'\u001b[39;49m\u001b[38;5;124;43mstemmer\u001b[39;49m\u001b[38;5;124;43m'\u001b[39;49m\u001b[43m]\u001b[49m)\n\u001b[0;32m      5\u001b[0m vect \u001b[38;5;241m=\u001b[39m vect\u001b[38;5;241m.\u001b[39mtransform(df[\u001b[38;5;124m'\u001b[39m\u001b[38;5;124mstemmer\u001b[39m\u001b[38;5;124m'\u001b[39m])\n\u001b[0;32m      6\u001b[0m vect\n",
      "File \u001b[1;32m~\\anaconda3\\envs\\gpu\\lib\\site-packages\\pandas\\core\\frame.py:3805\u001b[0m, in \u001b[0;36mDataFrame.__getitem__\u001b[1;34m(self, key)\u001b[0m\n\u001b[0;32m   3803\u001b[0m \u001b[38;5;28;01mif\u001b[39;00m \u001b[38;5;28mself\u001b[39m\u001b[38;5;241m.\u001b[39mcolumns\u001b[38;5;241m.\u001b[39mnlevels \u001b[38;5;241m>\u001b[39m \u001b[38;5;241m1\u001b[39m:\n\u001b[0;32m   3804\u001b[0m     \u001b[38;5;28;01mreturn\u001b[39;00m \u001b[38;5;28mself\u001b[39m\u001b[38;5;241m.\u001b[39m_getitem_multilevel(key)\n\u001b[1;32m-> 3805\u001b[0m indexer \u001b[38;5;241m=\u001b[39m \u001b[38;5;28;43mself\u001b[39;49m\u001b[38;5;241;43m.\u001b[39;49m\u001b[43mcolumns\u001b[49m\u001b[38;5;241;43m.\u001b[39;49m\u001b[43mget_loc\u001b[49m\u001b[43m(\u001b[49m\u001b[43mkey\u001b[49m\u001b[43m)\u001b[49m\n\u001b[0;32m   3806\u001b[0m \u001b[38;5;28;01mif\u001b[39;00m is_integer(indexer):\n\u001b[0;32m   3807\u001b[0m     indexer \u001b[38;5;241m=\u001b[39m [indexer]\n",
      "File \u001b[1;32m~\\anaconda3\\envs\\gpu\\lib\\site-packages\\pandas\\core\\indexes\\base.py:3805\u001b[0m, in \u001b[0;36mIndex.get_loc\u001b[1;34m(self, key, method, tolerance)\u001b[0m\n\u001b[0;32m   3803\u001b[0m     \u001b[38;5;28;01mreturn\u001b[39;00m \u001b[38;5;28mself\u001b[39m\u001b[38;5;241m.\u001b[39m_engine\u001b[38;5;241m.\u001b[39mget_loc(casted_key)\n\u001b[0;32m   3804\u001b[0m \u001b[38;5;28;01mexcept\u001b[39;00m \u001b[38;5;167;01mKeyError\u001b[39;00m \u001b[38;5;28;01mas\u001b[39;00m err:\n\u001b[1;32m-> 3805\u001b[0m     \u001b[38;5;28;01mraise\u001b[39;00m \u001b[38;5;167;01mKeyError\u001b[39;00m(key) \u001b[38;5;28;01mfrom\u001b[39;00m \u001b[38;5;21;01merr\u001b[39;00m\n\u001b[0;32m   3806\u001b[0m \u001b[38;5;28;01mexcept\u001b[39;00m \u001b[38;5;167;01mTypeError\u001b[39;00m:\n\u001b[0;32m   3807\u001b[0m     \u001b[38;5;66;03m# If we have a listlike key, _check_indexing_error will raise\u001b[39;00m\n\u001b[0;32m   3808\u001b[0m     \u001b[38;5;66;03m#  InvalidIndexError. Otherwise we fall through and re-raise\u001b[39;00m\n\u001b[0;32m   3809\u001b[0m     \u001b[38;5;66;03m#  the TypeError.\u001b[39;00m\n\u001b[0;32m   3810\u001b[0m     \u001b[38;5;28mself\u001b[39m\u001b[38;5;241m.\u001b[39m_check_indexing_error(key)\n",
      "\u001b[1;31mKeyError\u001b[0m: 'stemmer'"
     ]
    }
   ],
   "source": [
    "from sklearn.feature_extraction.text import TfidfVectorizer\n",
    "\n",
    "vect = TfidfVectorizer(ngram_range=(1,1), use_idf=True, norm='l1', stop_words=stop_words)\n",
    "vect.fit(df['stemmer'])\n",
    "vect = vect.transform(df['stemmer'])\n",
    "vect"
   ]
  },
  {
   "cell_type": "code",
   "execution_count": 61,
   "id": "56370c71",
   "metadata": {},
   "outputs": [
    {
     "name": "stdout",
     "output_type": "stream",
     "text": [
      "Epoch 1/30\n",
      "494/494 [==============================] - 3s 5ms/step - loss: 1.2393 - accuracy: 0.5237 - val_loss: 0.7815 - val_accuracy: 0.7563\n",
      "Epoch 2/30\n",
      "494/494 [==============================] - 2s 4ms/step - loss: 0.6569 - accuracy: 0.7801 - val_loss: 0.5093 - val_accuracy: 0.8311\n",
      "Epoch 3/30\n",
      "494/494 [==============================] - 2s 4ms/step - loss: 0.4332 - accuracy: 0.8600 - val_loss: 0.4138 - val_accuracy: 0.8563\n",
      "Epoch 4/30\n",
      "494/494 [==============================] - 2s 4ms/step - loss: 0.3161 - accuracy: 0.8997 - val_loss: 0.3884 - val_accuracy: 0.8641\n",
      "Epoch 5/30\n",
      "494/494 [==============================] - 2s 5ms/step - loss: 0.2390 - accuracy: 0.9263 - val_loss: 0.3809 - val_accuracy: 0.8637\n",
      "Epoch 6/30\n",
      "494/494 [==============================] - 2s 5ms/step - loss: 0.1949 - accuracy: 0.9420 - val_loss: 0.3840 - val_accuracy: 0.8660\n",
      "Epoch 7/30\n",
      "494/494 [==============================] - 2s 4ms/step - loss: 0.1584 - accuracy: 0.9529 - val_loss: 0.4005 - val_accuracy: 0.8635\n",
      "Epoch 8/30\n",
      "494/494 [==============================] - 2s 4ms/step - loss: 0.1250 - accuracy: 0.9636 - val_loss: 0.4222 - val_accuracy: 0.8635\n",
      "Epoch 9/30\n",
      "494/494 [==============================] - 2s 4ms/step - loss: 0.1034 - accuracy: 0.9708 - val_loss: 0.4517 - val_accuracy: 0.8618\n",
      "Epoch 10/30\n",
      "494/494 [==============================] - 2s 4ms/step - loss: 0.0903 - accuracy: 0.9734 - val_loss: 0.4727 - val_accuracy: 0.8603\n",
      "Epoch 11/30\n",
      "494/494 [==============================] - 2s 5ms/step - loss: 0.0695 - accuracy: 0.9817 - val_loss: 0.4841 - val_accuracy: 0.8601\n",
      "Epoch 12/30\n",
      "494/494 [==============================] - 2s 4ms/step - loss: 0.0594 - accuracy: 0.9854 - val_loss: 0.5116 - val_accuracy: 0.8588\n",
      "Epoch 13/30\n",
      "494/494 [==============================] - 2s 4ms/step - loss: 0.0510 - accuracy: 0.9861 - val_loss: 0.5535 - val_accuracy: 0.8593\n",
      "Epoch 14/30\n",
      "494/494 [==============================] - 2s 4ms/step - loss: 0.0424 - accuracy: 0.9888 - val_loss: 0.5845 - val_accuracy: 0.8565\n",
      "Epoch 15/30\n",
      "494/494 [==============================] - 2s 4ms/step - loss: 0.0396 - accuracy: 0.9887 - val_loss: 0.5944 - val_accuracy: 0.8552\n",
      "Epoch 16/30\n",
      "494/494 [==============================] - 2s 4ms/step - loss: 0.0293 - accuracy: 0.9930 - val_loss: 0.6326 - val_accuracy: 0.8466\n",
      "Epoch 17/30\n",
      "494/494 [==============================] - 2s 4ms/step - loss: 0.0249 - accuracy: 0.9942 - val_loss: 0.6663 - val_accuracy: 0.8479\n",
      "Epoch 18/30\n",
      "494/494 [==============================] - 2s 5ms/step - loss: 0.0258 - accuracy: 0.9927 - val_loss: 0.6790 - val_accuracy: 0.8489\n",
      "Epoch 19/30\n",
      "494/494 [==============================] - 2s 5ms/step - loss: 0.0220 - accuracy: 0.9949 - val_loss: 0.7128 - val_accuracy: 0.8502\n",
      "Epoch 20/30\n",
      "494/494 [==============================] - 2s 5ms/step - loss: 0.0212 - accuracy: 0.9941 - val_loss: 0.7039 - val_accuracy: 0.8498\n",
      "Epoch 21/30\n",
      "494/494 [==============================] - 2s 4ms/step - loss: 0.0176 - accuracy: 0.9958 - val_loss: 0.7388 - val_accuracy: 0.8523\n",
      "Epoch 22/30\n",
      "494/494 [==============================] - 2s 4ms/step - loss: 0.0184 - accuracy: 0.9956 - val_loss: 0.7689 - val_accuracy: 0.8533\n",
      "Epoch 23/30\n",
      "494/494 [==============================] - 2s 5ms/step - loss: 0.0168 - accuracy: 0.9963 - val_loss: 0.7898 - val_accuracy: 0.8474\n",
      "Epoch 23: early stopping\n"
     ]
    },
    {
     "data": {
      "text/plain": [
       "<keras.callbacks.History at 0x1b99bf32bf0>"
      ]
     },
     "execution_count": 61,
     "metadata": {},
     "output_type": "execute_result"
    }
   ],
   "source": [
    "y = df['categoria']\n",
    "x_train, x_test, y_train, y_test = train_test_split(vect, y, test_size=0.25, random_state=42)\n",
    "\n",
    "\n",
    "model = Sequential()\n",
    "\n",
    "model.add(Dense(64, activation='relu', input_dim=19983))\n",
    "model.add(Dropout(.3))\n",
    "model.add(Dense(32, activation='relu'))\n",
    "model.add(Dropout(.3))\n",
    "model.add(Dense(5, activation='softmax'))\n",
    "\n",
    "model.compile(loss=\"categorical_crossentropy\", optimizer='adam', metrics=\"accuracy\")\n",
    "\n",
    "es = EarlyStopping(monitor='val_loss', verbose=1, patience=18)\n",
    "mc = ModelCheckpoint('best_model_5.h5', monitor='val_loss', mode='min', save_best_only=True)\n",
    "model.fit(np.asarray(x_train.todense()), pd.get_dummies(y_train.values).values,\n",
    "          validation_data=(np.asarray(x_test.todense()), pd.get_dummies(y_test.values).values), \n",
    "          epochs=30,\n",
    "          callbacks=[es, mc])"
   ]
  },
  {
   "cell_type": "markdown",
   "id": "92175b15",
   "metadata": {},
   "source": [
    "## Testando com os tokens"
   ]
  },
  {
   "cell_type": "code",
   "execution_count": 64,
   "id": "495b22b6",
   "metadata": {},
   "outputs": [
    {
     "data": {
      "text/plain": [
       "<21072x42226 sparse matrix of type '<class 'numpy.float64'>'\n",
       "\twith 1847318 stored elements in Compressed Sparse Row format>"
      ]
     },
     "execution_count": 64,
     "metadata": {},
     "output_type": "execute_result"
    }
   ],
   "source": [
    "from sklearn.feature_extraction.text import TfidfVectorizer\n",
    "\n",
    "vect = TfidfVectorizer(ngram_range=(1,1), use_idf=True, norm='l1', stop_words=stop_words)\n",
    "vect.fit(df['descricao_reclamacao'])\n",
    "vect = vect.transform(df['descricao_reclamacao'])\n",
    "vect"
   ]
  },
  {
   "cell_type": "code",
   "execution_count": 66,
   "id": "9b1b4b42",
   "metadata": {},
   "outputs": [
    {
     "name": "stdout",
     "output_type": "stream",
     "text": [
      "Epoch 1/30\n",
      "494/494 [==============================] - 6s 11ms/step - loss: 1.2748 - accuracy: 0.5159 - val_loss: 0.7466 - val_accuracy: 0.7703\n",
      "Epoch 2/30\n",
      "494/494 [==============================] - 5s 10ms/step - loss: 0.5879 - accuracy: 0.8080 - val_loss: 0.4595 - val_accuracy: 0.8432\n",
      "Epoch 3/30\n",
      "494/494 [==============================] - 5s 10ms/step - loss: 0.3417 - accuracy: 0.8989 - val_loss: 0.3699 - val_accuracy: 0.8645\n",
      "Epoch 4/30\n",
      "494/494 [==============================] - 5s 9ms/step - loss: 0.2178 - accuracy: 0.9401 - val_loss: 0.3565 - val_accuracy: 0.8666\n",
      "Epoch 5/30\n",
      "494/494 [==============================] - 5s 10ms/step - loss: 0.1429 - accuracy: 0.9628 - val_loss: 0.3564 - val_accuracy: 0.8738\n",
      "Epoch 6/30\n",
      "494/494 [==============================] - 5s 9ms/step - loss: 0.1003 - accuracy: 0.9767 - val_loss: 0.3813 - val_accuracy: 0.8679\n",
      "Epoch 7/30\n",
      "494/494 [==============================] - 5s 9ms/step - loss: 0.0736 - accuracy: 0.9834 - val_loss: 0.3916 - val_accuracy: 0.8683\n",
      "Epoch 8/30\n",
      "494/494 [==============================] - 5s 9ms/step - loss: 0.0561 - accuracy: 0.9891 - val_loss: 0.4169 - val_accuracy: 0.8690\n",
      "Epoch 9/30\n",
      "494/494 [==============================] - 5s 9ms/step - loss: 0.0412 - accuracy: 0.9923 - val_loss: 0.4263 - val_accuracy: 0.8675\n",
      "Epoch 10/30\n",
      "494/494 [==============================] - 5s 10ms/step - loss: 0.0330 - accuracy: 0.9937 - val_loss: 0.4559 - val_accuracy: 0.8660\n",
      "Epoch 11/30\n",
      "494/494 [==============================] - 5s 10ms/step - loss: 0.0254 - accuracy: 0.9950 - val_loss: 0.4925 - val_accuracy: 0.8641\n",
      "Epoch 12/30\n",
      "494/494 [==============================] - 5s 10ms/step - loss: 0.0213 - accuracy: 0.9960 - val_loss: 0.5151 - val_accuracy: 0.8628\n",
      "Epoch 13/30\n",
      "494/494 [==============================] - 5s 10ms/step - loss: 0.0171 - accuracy: 0.9970 - val_loss: 0.5384 - val_accuracy: 0.8635\n",
      "Epoch 14/30\n",
      "494/494 [==============================] - 5s 10ms/step - loss: 0.0169 - accuracy: 0.9968 - val_loss: 0.5522 - val_accuracy: 0.8595\n",
      "Epoch 15/30\n",
      "494/494 [==============================] - 5s 9ms/step - loss: 0.0135 - accuracy: 0.9970 - val_loss: 0.5788 - val_accuracy: 0.8610\n",
      "Epoch 16/30\n",
      "494/494 [==============================] - 5s 9ms/step - loss: 0.0138 - accuracy: 0.9975 - val_loss: 0.6000 - val_accuracy: 0.8622\n",
      "Epoch 17/30\n",
      "494/494 [==============================] - 5s 9ms/step - loss: 0.0100 - accuracy: 0.9983 - val_loss: 0.6236 - val_accuracy: 0.8599\n",
      "Epoch 18/30\n",
      "494/494 [==============================] - 5s 9ms/step - loss: 0.0070 - accuracy: 0.9985 - val_loss: 0.6663 - val_accuracy: 0.8557\n",
      "Epoch 19/30\n",
      "494/494 [==============================] - 5s 9ms/step - loss: 0.0090 - accuracy: 0.9991 - val_loss: 0.6821 - val_accuracy: 0.8605\n",
      "Epoch 20/30\n",
      "494/494 [==============================] - 5s 9ms/step - loss: 0.0092 - accuracy: 0.9985 - val_loss: 0.7037 - val_accuracy: 0.8544\n",
      "Epoch 21/30\n",
      "494/494 [==============================] - 5s 9ms/step - loss: 0.0077 - accuracy: 0.9980 - val_loss: 0.7058 - val_accuracy: 0.8569\n",
      "Epoch 22/30\n",
      "494/494 [==============================] - 5s 10ms/step - loss: 0.0060 - accuracy: 0.9987 - val_loss: 0.7416 - val_accuracy: 0.8554\n",
      "Epoch 23/30\n",
      "494/494 [==============================] - 5s 10ms/step - loss: 0.0072 - accuracy: 0.9987 - val_loss: 0.7699 - val_accuracy: 0.8516\n",
      "Epoch 23: early stopping\n"
     ]
    },
    {
     "data": {
      "text/plain": [
       "<keras.callbacks.History at 0x1b997346020>"
      ]
     },
     "execution_count": 66,
     "metadata": {},
     "output_type": "execute_result"
    }
   ],
   "source": [
    "y = df['categoria']\n",
    "x_train, x_test, y_train, y_test = train_test_split(vect, y, test_size=0.25, random_state=42)\n",
    "\n",
    "\n",
    "model = Sequential()\n",
    "\n",
    "model.add(Dense(64, activation='relu', input_dim=42226))\n",
    "model.add(Dropout(.3))\n",
    "model.add(Dense(32, activation='relu'))\n",
    "model.add(Dropout(.3))\n",
    "model.add(Dense(5, activation='softmax'))\n",
    "\n",
    "model.compile(loss=\"categorical_crossentropy\", optimizer='adam', metrics=\"accuracy\")\n",
    "\n",
    "es = EarlyStopping(monitor='val_loss', verbose=1, patience=18)\n",
    "mc = ModelCheckpoint('best_model_6.h5', monitor='val_loss', mode='min', save_best_only=True)\n",
    "model.fit(np.asarray(x_train.todense()), pd.get_dummies(y_train.values).values,\n",
    "          validation_data=(np.asarray(x_test.todense()), pd.get_dummies(y_test.values).values), \n",
    "          epochs=30,\n",
    "          callbacks=[es, mc])"
   ]
  },
  {
   "cell_type": "markdown",
   "id": "c43ab98f",
   "metadata": {},
   "source": [
    "## Montando rede neural e definir modelo campeão"
   ]
  },
  {
   "cell_type": "code",
   "execution_count": 15,
   "id": "44bdbee8",
   "metadata": {},
   "outputs": [],
   "source": [
    "import pandas as pd\n",
    "from tensorflow.keras.layers import LSTM, Embedding\n",
    "from sklearn.model_selection import train_test_split\n",
    "from tensorflow.keras.layers import Dense, Dropout, Flatten\n",
    "from tensorflow.keras import Input\n",
    "from tensorflow.keras.models import Sequential\n",
    "import numpy as np\n",
    "from tensorflow.keras.callbacks import EarlyStopping, ModelCheckpoint\n",
    "from tensorflow.keras.optimizers import Adam\n",
    "# df = pd.read_csv('df_pos_tag.csv')"
   ]
  },
  {
   "cell_type": "code",
   "execution_count": 3,
   "id": "a6e12426",
   "metadata": {},
   "outputs": [],
   "source": [
    "## Removendo sequência de consoantes\n",
    "import re\n",
    "\n",
    "def remove_sequencia_de_consoantes(texto):\n",
    "    regex = re.sub(r\"(?!aeiouâãáíóõôú)[^aeiouâãáíóõôú.?!, ]{4,}(?!aeiouâãáíóõôú)\", r\" \", texto)\n",
    "    return regex\n",
    "\n",
    "df['pos_tag_v2'] = df['pos_tag'].apply(lambda texto: remove_sequencia_de_consoantes(texto.lower()))"
   ]
  },
  {
   "cell_type": "code",
   "execution_count": 4,
   "id": "0bdecb83",
   "metadata": {},
   "outputs": [
    {
     "data": {
      "text/plain": [
       "<21071x31821 sparse matrix of type '<class 'numpy.float64'>'\n",
       "\twith 1454234 stored elements in Compressed Sparse Row format>"
      ]
     },
     "execution_count": 4,
     "metadata": {},
     "output_type": "execute_result"
    }
   ],
   "source": [
    "from sklearn.feature_extraction.text import TfidfVectorizer\n",
    "df.dropna(inplace=True)\n",
    "vect = TfidfVectorizer(ngram_range=(1,1), use_idf=False, norm='l1')\n",
    "vect.fit(df['pos_tag_v2'])\n",
    "vect = vect.transform(df['pos_tag_v2'])\n",
    "vect"
   ]
  },
  {
   "cell_type": "code",
   "execution_count": 16,
   "id": "8b694c56",
   "metadata": {},
   "outputs": [
    {
     "data": {
      "text/plain": [
       "<21072x32345 sparse matrix of type '<class 'numpy.float64'>'\n",
       "\twith 1459384 stored elements in Compressed Sparse Row format>"
      ]
     },
     "execution_count": 16,
     "metadata": {},
     "output_type": "execute_result"
    }
   ],
   "source": [
    "from sklearn.feature_extraction.text import TfidfVectorizer\n",
    "df.dropna(inplace=True)\n",
    "vect = TfidfVectorizer(ngram_range=(1,1), use_idf=False, norm='l1')\n",
    "vect.fit(df['pos_tag'])\n",
    "vect = vect.transform(df['pos_tag'])\n",
    "vect"
   ]
  },
  {
   "cell_type": "code",
   "execution_count": 17,
   "id": "aba5ed0e",
   "metadata": {
    "scrolled": true
   },
   "outputs": [
    {
     "name": "stdout",
     "output_type": "stream",
     "text": [
      "Epoch 1/500\n",
      "494/494 [==============================] - 3s 7ms/step - loss: 1.6023 - accuracy: 0.2815 - val_loss: 1.5927 - val_accuracy: 0.2557\n",
      "Epoch 2/500\n",
      "494/494 [==============================] - 2s 5ms/step - loss: 1.5830 - accuracy: 0.3136 - val_loss: 1.5700 - val_accuracy: 0.2802\n",
      "Epoch 3/500\n",
      "494/494 [==============================] - 2s 5ms/step - loss: 1.5594 - accuracy: 0.3514 - val_loss: 1.5429 - val_accuracy: 0.3288\n",
      "Epoch 4/500\n",
      "494/494 [==============================] - 2s 5ms/step - loss: 1.5308 - accuracy: 0.4117 - val_loss: 1.5111 - val_accuracy: 0.4058\n",
      "Epoch 5/500\n",
      "494/494 [==============================] - 2s 5ms/step - loss: 1.4975 - accuracy: 0.4643 - val_loss: 1.4753 - val_accuracy: 0.5180\n",
      "Epoch 6/500\n",
      "494/494 [==============================] - 2s 5ms/step - loss: 1.4609 - accuracy: 0.5289 - val_loss: 1.4354 - val_accuracy: 0.6031\n",
      "Epoch 7/500\n",
      "494/494 [==============================] - 2s 5ms/step - loss: 1.4189 - accuracy: 0.5773 - val_loss: 1.3909 - val_accuracy: 0.6587\n",
      "Epoch 8/500\n",
      "494/494 [==============================] - 2s 5ms/step - loss: 1.3720 - accuracy: 0.6181 - val_loss: 1.3420 - val_accuracy: 0.7060\n",
      "Epoch 9/500\n",
      "494/494 [==============================] - 2s 5ms/step - loss: 1.3259 - accuracy: 0.6412 - val_loss: 1.2918 - val_accuracy: 0.7257\n",
      "Epoch 10/500\n",
      "494/494 [==============================] - 2s 5ms/step - loss: 1.2751 - accuracy: 0.6608 - val_loss: 1.2405 - val_accuracy: 0.7369\n",
      "Epoch 11/500\n",
      "494/494 [==============================] - 2s 5ms/step - loss: 1.2244 - accuracy: 0.6744 - val_loss: 1.1881 - val_accuracy: 0.7523\n",
      "Epoch 12/500\n",
      "494/494 [==============================] - 2s 5ms/step - loss: 1.1754 - accuracy: 0.6881 - val_loss: 1.1361 - val_accuracy: 0.7561\n",
      "Epoch 13/500\n",
      "494/494 [==============================] - 2s 5ms/step - loss: 1.1246 - accuracy: 0.7014 - val_loss: 1.0851 - val_accuracy: 0.7604\n",
      "Epoch 14/500\n",
      "494/494 [==============================] - 2s 5ms/step - loss: 1.0787 - accuracy: 0.7044 - val_loss: 1.0364 - val_accuracy: 0.7667\n",
      "Epoch 15/500\n",
      "494/494 [==============================] - 2s 4ms/step - loss: 1.0337 - accuracy: 0.7120 - val_loss: 0.9900 - val_accuracy: 0.7716\n",
      "Epoch 16/500\n",
      "494/494 [==============================] - 2s 4ms/step - loss: 0.9935 - accuracy: 0.7196 - val_loss: 0.9465 - val_accuracy: 0.7777\n",
      "Epoch 17/500\n",
      "494/494 [==============================] - 2s 5ms/step - loss: 0.9527 - accuracy: 0.7330 - val_loss: 0.9057 - val_accuracy: 0.7830\n",
      "Epoch 18/500\n",
      "494/494 [==============================] - 2s 5ms/step - loss: 0.9140 - accuracy: 0.7370 - val_loss: 0.8676 - val_accuracy: 0.7853\n",
      "Epoch 19/500\n",
      "494/494 [==============================] - 2s 5ms/step - loss: 0.8802 - accuracy: 0.7430 - val_loss: 0.8317 - val_accuracy: 0.7902\n",
      "Epoch 20/500\n",
      "494/494 [==============================] - 2s 4ms/step - loss: 0.8424 - accuracy: 0.7523 - val_loss: 0.7984 - val_accuracy: 0.7925\n",
      "Epoch 21/500\n",
      "494/494 [==============================] - 2s 5ms/step - loss: 0.8224 - accuracy: 0.7504 - val_loss: 0.7682 - val_accuracy: 0.7990\n",
      "Epoch 22/500\n",
      "494/494 [==============================] - 2s 5ms/step - loss: 0.7903 - accuracy: 0.7595 - val_loss: 0.7398 - val_accuracy: 0.8032\n",
      "Epoch 23/500\n",
      "494/494 [==============================] - 2s 5ms/step - loss: 0.7643 - accuracy: 0.7661 - val_loss: 0.7135 - val_accuracy: 0.8064\n",
      "Epoch 24/500\n",
      "494/494 [==============================] - 2s 4ms/step - loss: 0.7361 - accuracy: 0.7709 - val_loss: 0.6890 - val_accuracy: 0.8130\n",
      "Epoch 25/500\n",
      "494/494 [==============================] - 2s 5ms/step - loss: 0.7140 - accuracy: 0.7813 - val_loss: 0.6657 - val_accuracy: 0.8157\n",
      "Epoch 26/500\n",
      "494/494 [==============================] - 2s 5ms/step - loss: 0.6912 - accuracy: 0.7858 - val_loss: 0.6452 - val_accuracy: 0.8223\n",
      "Epoch 27/500\n",
      "494/494 [==============================] - 2s 5ms/step - loss: 0.6737 - accuracy: 0.7909 - val_loss: 0.6249 - val_accuracy: 0.8267\n",
      "Epoch 28/500\n",
      "494/494 [==============================] - 2s 5ms/step - loss: 0.6487 - accuracy: 0.7975 - val_loss: 0.6062 - val_accuracy: 0.8295\n",
      "Epoch 29/500\n",
      "494/494 [==============================] - 2s 4ms/step - loss: 0.6294 - accuracy: 0.8031 - val_loss: 0.5892 - val_accuracy: 0.8339\n",
      "Epoch 30/500\n",
      "494/494 [==============================] - 2s 5ms/step - loss: 0.6162 - accuracy: 0.8043 - val_loss: 0.5727 - val_accuracy: 0.8369\n",
      "Epoch 31/500\n",
      "494/494 [==============================] - 2s 5ms/step - loss: 0.6009 - accuracy: 0.8155 - val_loss: 0.5574 - val_accuracy: 0.8375\n",
      "Epoch 32/500\n",
      "494/494 [==============================] - 2s 5ms/step - loss: 0.5843 - accuracy: 0.8195 - val_loss: 0.5430 - val_accuracy: 0.8386\n",
      "Epoch 33/500\n",
      "494/494 [==============================] - 2s 4ms/step - loss: 0.5676 - accuracy: 0.8221 - val_loss: 0.5297 - val_accuracy: 0.8434\n",
      "Epoch 34/500\n",
      "494/494 [==============================] - 2s 4ms/step - loss: 0.5512 - accuracy: 0.8273 - val_loss: 0.5165 - val_accuracy: 0.8459\n",
      "Epoch 35/500\n",
      "494/494 [==============================] - 2s 5ms/step - loss: 0.5419 - accuracy: 0.8305 - val_loss: 0.5048 - val_accuracy: 0.8491\n",
      "Epoch 36/500\n",
      "494/494 [==============================] - 2s 5ms/step - loss: 0.5254 - accuracy: 0.8361 - val_loss: 0.4933 - val_accuracy: 0.8533\n",
      "Epoch 37/500\n",
      "494/494 [==============================] - 2s 5ms/step - loss: 0.5139 - accuracy: 0.8409 - val_loss: 0.4826 - val_accuracy: 0.8567\n",
      "Epoch 38/500\n",
      "494/494 [==============================] - 2s 5ms/step - loss: 0.5021 - accuracy: 0.8418 - val_loss: 0.4730 - val_accuracy: 0.8591\n",
      "Epoch 39/500\n",
      "494/494 [==============================] - 2s 5ms/step - loss: 0.4899 - accuracy: 0.8486 - val_loss: 0.4631 - val_accuracy: 0.8605\n",
      "Epoch 40/500\n",
      "494/494 [==============================] - 2s 5ms/step - loss: 0.4760 - accuracy: 0.8519 - val_loss: 0.4537 - val_accuracy: 0.8612\n",
      "Epoch 41/500\n",
      "494/494 [==============================] - 2s 5ms/step - loss: 0.4673 - accuracy: 0.8555 - val_loss: 0.4450 - val_accuracy: 0.8624\n",
      "Epoch 42/500\n",
      "494/494 [==============================] - 2s 5ms/step - loss: 0.4570 - accuracy: 0.8575 - val_loss: 0.4370 - val_accuracy: 0.8643\n",
      "Epoch 43/500\n",
      "494/494 [==============================] - 2s 4ms/step - loss: 0.4421 - accuracy: 0.8631 - val_loss: 0.4290 - val_accuracy: 0.8673\n",
      "Epoch 44/500\n",
      "494/494 [==============================] - 2s 5ms/step - loss: 0.4348 - accuracy: 0.8666 - val_loss: 0.4218 - val_accuracy: 0.8677\n",
      "Epoch 45/500\n",
      "494/494 [==============================] - 2s 5ms/step - loss: 0.4280 - accuracy: 0.8657 - val_loss: 0.4150 - val_accuracy: 0.8713\n",
      "Epoch 46/500\n",
      "494/494 [==============================] - 2s 5ms/step - loss: 0.4214 - accuracy: 0.8699 - val_loss: 0.4082 - val_accuracy: 0.8719\n",
      "Epoch 47/500\n",
      "494/494 [==============================] - 2s 4ms/step - loss: 0.4150 - accuracy: 0.8716 - val_loss: 0.4024 - val_accuracy: 0.8721\n",
      "Epoch 48/500\n",
      "494/494 [==============================] - 2s 5ms/step - loss: 0.4050 - accuracy: 0.8744 - val_loss: 0.3963 - val_accuracy: 0.8741\n",
      "Epoch 49/500\n",
      "494/494 [==============================] - 2s 5ms/step - loss: 0.3948 - accuracy: 0.8774 - val_loss: 0.3909 - val_accuracy: 0.8753\n",
      "Epoch 50/500\n",
      "494/494 [==============================] - 2s 5ms/step - loss: 0.3830 - accuracy: 0.8829 - val_loss: 0.3852 - val_accuracy: 0.8781\n",
      "Epoch 51/500\n",
      "494/494 [==============================] - 2s 4ms/step - loss: 0.3784 - accuracy: 0.8809 - val_loss: 0.3803 - val_accuracy: 0.8774\n",
      "Epoch 52/500\n",
      "494/494 [==============================] - 2s 5ms/step - loss: 0.3695 - accuracy: 0.8898 - val_loss: 0.3753 - val_accuracy: 0.8776\n",
      "Epoch 53/500\n",
      "494/494 [==============================] - 2s 5ms/step - loss: 0.3677 - accuracy: 0.8872 - val_loss: 0.3709 - val_accuracy: 0.8793\n",
      "Epoch 54/500\n",
      "494/494 [==============================] - 2s 5ms/step - loss: 0.3584 - accuracy: 0.8895 - val_loss: 0.3666 - val_accuracy: 0.8815\n",
      "Epoch 55/500\n",
      "494/494 [==============================] - 2s 4ms/step - loss: 0.3533 - accuracy: 0.8913 - val_loss: 0.3624 - val_accuracy: 0.8831\n",
      "Epoch 56/500\n",
      "494/494 [==============================] - 2s 5ms/step - loss: 0.3460 - accuracy: 0.8934 - val_loss: 0.3587 - val_accuracy: 0.8834\n",
      "Epoch 57/500\n",
      "494/494 [==============================] - 2s 5ms/step - loss: 0.3395 - accuracy: 0.8942 - val_loss: 0.3548 - val_accuracy: 0.8846\n"
     ]
    },
    {
     "name": "stdout",
     "output_type": "stream",
     "text": [
      "Epoch 58/500\n",
      "494/494 [==============================] - 2s 5ms/step - loss: 0.3350 - accuracy: 0.8966 - val_loss: 0.3514 - val_accuracy: 0.8850\n",
      "Epoch 59/500\n",
      "494/494 [==============================] - 2s 5ms/step - loss: 0.3305 - accuracy: 0.8996 - val_loss: 0.3483 - val_accuracy: 0.8861\n",
      "Epoch 60/500\n",
      "494/494 [==============================] - 2s 4ms/step - loss: 0.3225 - accuracy: 0.9027 - val_loss: 0.3455 - val_accuracy: 0.8861\n",
      "Epoch 61/500\n",
      "494/494 [==============================] - 2s 4ms/step - loss: 0.3205 - accuracy: 0.9015 - val_loss: 0.3423 - val_accuracy: 0.8859\n",
      "Epoch 62/500\n",
      "494/494 [==============================] - 2s 5ms/step - loss: 0.3106 - accuracy: 0.9032 - val_loss: 0.3396 - val_accuracy: 0.8878\n",
      "Epoch 63/500\n",
      "494/494 [==============================] - 2s 5ms/step - loss: 0.3046 - accuracy: 0.9073 - val_loss: 0.3368 - val_accuracy: 0.8878\n",
      "Epoch 64/500\n",
      "494/494 [==============================] - 2s 5ms/step - loss: 0.3034 - accuracy: 0.9059 - val_loss: 0.3339 - val_accuracy: 0.8884\n",
      "Epoch 65/500\n",
      "494/494 [==============================] - 2s 5ms/step - loss: 0.2902 - accuracy: 0.9140 - val_loss: 0.3314 - val_accuracy: 0.8888\n",
      "Epoch 66/500\n",
      "494/494 [==============================] - 2s 5ms/step - loss: 0.2919 - accuracy: 0.9138 - val_loss: 0.3290 - val_accuracy: 0.8890\n",
      "Epoch 67/500\n",
      "494/494 [==============================] - 2s 5ms/step - loss: 0.2871 - accuracy: 0.9115 - val_loss: 0.3270 - val_accuracy: 0.8890\n",
      "Epoch 68/500\n",
      "494/494 [==============================] - 2s 5ms/step - loss: 0.2884 - accuracy: 0.9105 - val_loss: 0.3251 - val_accuracy: 0.8907\n",
      "Epoch 69/500\n",
      "494/494 [==============================] - 2s 5ms/step - loss: 0.2807 - accuracy: 0.9160 - val_loss: 0.3235 - val_accuracy: 0.8909\n",
      "Epoch 70/500\n",
      "494/494 [==============================] - 2s 5ms/step - loss: 0.2756 - accuracy: 0.9156 - val_loss: 0.3214 - val_accuracy: 0.8914\n",
      "Epoch 71/500\n",
      "494/494 [==============================] - 2s 5ms/step - loss: 0.2783 - accuracy: 0.9148 - val_loss: 0.3198 - val_accuracy: 0.8927\n",
      "Epoch 72/500\n",
      "494/494 [==============================] - 2s 5ms/step - loss: 0.2667 - accuracy: 0.9182 - val_loss: 0.3183 - val_accuracy: 0.8927\n",
      "Epoch 73/500\n",
      "494/494 [==============================] - 2s 4ms/step - loss: 0.2607 - accuracy: 0.9236 - val_loss: 0.3164 - val_accuracy: 0.8922\n",
      "Epoch 74/500\n",
      "494/494 [==============================] - 2s 4ms/step - loss: 0.2560 - accuracy: 0.9241 - val_loss: 0.3149 - val_accuracy: 0.8924\n",
      "Epoch 75/500\n",
      "494/494 [==============================] - 2s 5ms/step - loss: 0.2599 - accuracy: 0.9207 - val_loss: 0.3137 - val_accuracy: 0.8931\n",
      "Epoch 76/500\n",
      "494/494 [==============================] - 2s 5ms/step - loss: 0.2527 - accuracy: 0.9250 - val_loss: 0.3123 - val_accuracy: 0.8939\n",
      "Epoch 77/500\n",
      "494/494 [==============================] - 2s 5ms/step - loss: 0.2473 - accuracy: 0.9246 - val_loss: 0.3112 - val_accuracy: 0.8933\n",
      "Epoch 78/500\n",
      "494/494 [==============================] - 2s 4ms/step - loss: 0.2430 - accuracy: 0.9286 - val_loss: 0.3099 - val_accuracy: 0.8941\n",
      "Epoch 79/500\n",
      "494/494 [==============================] - 2s 5ms/step - loss: 0.2403 - accuracy: 0.9285 - val_loss: 0.3085 - val_accuracy: 0.8956\n",
      "Epoch 80/500\n",
      "494/494 [==============================] - 2s 5ms/step - loss: 0.2379 - accuracy: 0.9301 - val_loss: 0.3074 - val_accuracy: 0.8958\n",
      "Epoch 81/500\n",
      "494/494 [==============================] - 2s 5ms/step - loss: 0.2320 - accuracy: 0.9322 - val_loss: 0.3065 - val_accuracy: 0.8971\n",
      "Epoch 82/500\n",
      "494/494 [==============================] - 2s 5ms/step - loss: 0.2313 - accuracy: 0.9299 - val_loss: 0.3058 - val_accuracy: 0.8965\n",
      "Epoch 83/500\n",
      "494/494 [==============================] - 2s 4ms/step - loss: 0.2315 - accuracy: 0.9303 - val_loss: 0.3050 - val_accuracy: 0.8964\n",
      "Epoch 84/500\n",
      "494/494 [==============================] - 2s 5ms/step - loss: 0.2250 - accuracy: 0.9325 - val_loss: 0.3045 - val_accuracy: 0.8965\n",
      "Epoch 85/500\n",
      "494/494 [==============================] - 2s 5ms/step - loss: 0.2198 - accuracy: 0.9330 - val_loss: 0.3033 - val_accuracy: 0.8979\n",
      "Epoch 86/500\n",
      "494/494 [==============================] - 2s 5ms/step - loss: 0.2144 - accuracy: 0.9385 - val_loss: 0.3025 - val_accuracy: 0.8977\n",
      "Epoch 87/500\n",
      "494/494 [==============================] - 2s 4ms/step - loss: 0.2143 - accuracy: 0.9374 - val_loss: 0.3018 - val_accuracy: 0.8984\n",
      "Epoch 88/500\n",
      "494/494 [==============================] - 2s 5ms/step - loss: 0.2135 - accuracy: 0.9389 - val_loss: 0.3012 - val_accuracy: 0.8988\n",
      "Epoch 89/500\n",
      "494/494 [==============================] - 2s 5ms/step - loss: 0.2090 - accuracy: 0.9380 - val_loss: 0.3009 - val_accuracy: 0.8979\n",
      "Epoch 90/500\n",
      "494/494 [==============================] - 2s 5ms/step - loss: 0.2047 - accuracy: 0.9412 - val_loss: 0.3004 - val_accuracy: 0.8975\n",
      "Epoch 91/500\n",
      "494/494 [==============================] - 2s 5ms/step - loss: 0.2031 - accuracy: 0.9413 - val_loss: 0.2996 - val_accuracy: 0.8981\n",
      "Epoch 92/500\n",
      "494/494 [==============================] - 2s 5ms/step - loss: 0.2025 - accuracy: 0.9395 - val_loss: 0.2993 - val_accuracy: 0.8981\n",
      "Epoch 93/500\n",
      "494/494 [==============================] - 2s 5ms/step - loss: 0.2006 - accuracy: 0.9418 - val_loss: 0.2989 - val_accuracy: 0.8975\n",
      "Epoch 94/500\n",
      "494/494 [==============================] - 2s 5ms/step - loss: 0.1961 - accuracy: 0.9441 - val_loss: 0.2983 - val_accuracy: 0.8977\n",
      "Epoch 95/500\n",
      "494/494 [==============================] - 2s 5ms/step - loss: 0.1956 - accuracy: 0.9441 - val_loss: 0.2980 - val_accuracy: 0.8983\n",
      "Epoch 96/500\n",
      "494/494 [==============================] - 2s 5ms/step - loss: 0.1902 - accuracy: 0.9455 - val_loss: 0.2977 - val_accuracy: 0.8983\n",
      "Epoch 97/500\n",
      "494/494 [==============================] - 2s 5ms/step - loss: 0.1887 - accuracy: 0.9458 - val_loss: 0.2974 - val_accuracy: 0.8983\n",
      "Epoch 98/500\n",
      "494/494 [==============================] - 2s 5ms/step - loss: 0.1872 - accuracy: 0.9471 - val_loss: 0.2972 - val_accuracy: 0.8983\n",
      "Epoch 99/500\n",
      "494/494 [==============================] - 2s 5ms/step - loss: 0.1834 - accuracy: 0.9479 - val_loss: 0.2970 - val_accuracy: 0.8986\n",
      "Epoch 100/500\n",
      "494/494 [==============================] - 2s 4ms/step - loss: 0.1835 - accuracy: 0.9471 - val_loss: 0.2969 - val_accuracy: 0.8984\n",
      "Epoch 101/500\n",
      "494/494 [==============================] - 2s 5ms/step - loss: 0.1756 - accuracy: 0.9508 - val_loss: 0.2968 - val_accuracy: 0.8981\n",
      "Epoch 102/500\n",
      "494/494 [==============================] - 2s 5ms/step - loss: 0.1721 - accuracy: 0.9499 - val_loss: 0.2967 - val_accuracy: 0.8983\n",
      "Epoch 103/500\n",
      "494/494 [==============================] - 2s 4ms/step - loss: 0.1754 - accuracy: 0.9495 - val_loss: 0.2969 - val_accuracy: 0.8983\n",
      "Epoch 104/500\n",
      "494/494 [==============================] - 2s 4ms/step - loss: 0.1676 - accuracy: 0.9524 - val_loss: 0.2968 - val_accuracy: 0.8994\n",
      "Epoch 105/500\n",
      "494/494 [==============================] - 2s 4ms/step - loss: 0.1674 - accuracy: 0.9517 - val_loss: 0.2968 - val_accuracy: 0.8990\n",
      "Epoch 106/500\n",
      "494/494 [==============================] - 2s 5ms/step - loss: 0.1671 - accuracy: 0.9520 - val_loss: 0.2965 - val_accuracy: 0.8994\n",
      "Epoch 107/500\n",
      "494/494 [==============================] - 2s 5ms/step - loss: 0.1635 - accuracy: 0.9551 - val_loss: 0.2968 - val_accuracy: 0.8990\n",
      "Epoch 108/500\n",
      "494/494 [==============================] - 2s 4ms/step - loss: 0.1652 - accuracy: 0.9541 - val_loss: 0.2968 - val_accuracy: 0.8992\n",
      "Epoch 109/500\n",
      "494/494 [==============================] - 2s 4ms/step - loss: 0.1610 - accuracy: 0.9553 - val_loss: 0.2970 - val_accuracy: 0.8998\n",
      "Epoch 110/500\n",
      "494/494 [==============================] - 2s 4ms/step - loss: 0.1599 - accuracy: 0.9564 - val_loss: 0.2970 - val_accuracy: 0.9002\n",
      "Epoch 111/500\n",
      "494/494 [==============================] - 2s 5ms/step - loss: 0.1551 - accuracy: 0.9576 - val_loss: 0.2972 - val_accuracy: 0.9002\n",
      "Epoch 112/500\n",
      "494/494 [==============================] - 2s 5ms/step - loss: 0.1538 - accuracy: 0.9582 - val_loss: 0.2973 - val_accuracy: 0.9005\n",
      "Epoch 113/500\n",
      "494/494 [==============================] - 2s 4ms/step - loss: 0.1499 - accuracy: 0.9586 - val_loss: 0.2976 - val_accuracy: 0.9007\n",
      "Epoch 114/500\n",
      "494/494 [==============================] - 2s 4ms/step - loss: 0.1508 - accuracy: 0.9563 - val_loss: 0.2981 - val_accuracy: 0.8988\n"
     ]
    },
    {
     "name": "stdout",
     "output_type": "stream",
     "text": [
      "Epoch 115/500\n",
      "494/494 [==============================] - 2s 4ms/step - loss: 0.1486 - accuracy: 0.9589 - val_loss: 0.2981 - val_accuracy: 0.9009\n",
      "Epoch 116/500\n",
      "494/494 [==============================] - 2s 5ms/step - loss: 0.1457 - accuracy: 0.9611 - val_loss: 0.2987 - val_accuracy: 0.9002\n",
      "Epoch 117/500\n",
      "494/494 [==============================] - 2s 5ms/step - loss: 0.1459 - accuracy: 0.9603 - val_loss: 0.2990 - val_accuracy: 0.8983\n",
      "Epoch 118/500\n",
      "494/494 [==============================] - 2s 5ms/step - loss: 0.1421 - accuracy: 0.9609 - val_loss: 0.2994 - val_accuracy: 0.8992\n",
      "Epoch 119/500\n",
      "494/494 [==============================] - 2s 4ms/step - loss: 0.1395 - accuracy: 0.9631 - val_loss: 0.2996 - val_accuracy: 0.8988\n",
      "Epoch 120/500\n",
      "494/494 [==============================] - 2s 5ms/step - loss: 0.1402 - accuracy: 0.9609 - val_loss: 0.3000 - val_accuracy: 0.8992\n",
      "Epoch 121/500\n",
      "494/494 [==============================] - 2s 5ms/step - loss: 0.1405 - accuracy: 0.9611 - val_loss: 0.3003 - val_accuracy: 0.8988\n",
      "Epoch 122/500\n",
      "494/494 [==============================] - 2s 5ms/step - loss: 0.1323 - accuracy: 0.9649 - val_loss: 0.3008 - val_accuracy: 0.8973\n",
      "Epoch 123/500\n",
      "494/494 [==============================] - 2s 4ms/step - loss: 0.1349 - accuracy: 0.9653 - val_loss: 0.3009 - val_accuracy: 0.8992\n",
      "Epoch 124/500\n",
      "494/494 [==============================] - 2s 4ms/step - loss: 0.1306 - accuracy: 0.9657 - val_loss: 0.3013 - val_accuracy: 0.8986\n",
      "Epoch 125/500\n",
      "494/494 [==============================] - 2s 5ms/step - loss: 0.1295 - accuracy: 0.9632 - val_loss: 0.3018 - val_accuracy: 0.8986\n",
      "Epoch 126/500\n",
      "494/494 [==============================] - 2s 4ms/step - loss: 0.1272 - accuracy: 0.9651 - val_loss: 0.3023 - val_accuracy: 0.8977\n",
      "Epoch 127/500\n",
      "494/494 [==============================] - 2s 4ms/step - loss: 0.1277 - accuracy: 0.9655 - val_loss: 0.3029 - val_accuracy: 0.8977\n",
      "Epoch 128/500\n",
      "494/494 [==============================] - 2s 4ms/step - loss: 0.1267 - accuracy: 0.9672 - val_loss: 0.3031 - val_accuracy: 0.8973\n",
      "Epoch 129/500\n",
      "494/494 [==============================] - 2s 5ms/step - loss: 0.1248 - accuracy: 0.9659 - val_loss: 0.3034 - val_accuracy: 0.8975\n",
      "Epoch 130/500\n",
      "494/494 [==============================] - 2s 5ms/step - loss: 0.1215 - accuracy: 0.9679 - val_loss: 0.3041 - val_accuracy: 0.8969\n",
      "Epoch 131/500\n",
      "494/494 [==============================] - 2s 4ms/step - loss: 0.1230 - accuracy: 0.9676 - val_loss: 0.3048 - val_accuracy: 0.8967\n",
      "Epoch 132/500\n",
      "494/494 [==============================] - 2s 4ms/step - loss: 0.1198 - accuracy: 0.9689 - val_loss: 0.3053 - val_accuracy: 0.8960\n",
      "Epoch 133/500\n",
      "494/494 [==============================] - 2s 5ms/step - loss: 0.1181 - accuracy: 0.9682 - val_loss: 0.3059 - val_accuracy: 0.8950\n",
      "Epoch 134/500\n",
      "494/494 [==============================] - 2s 4ms/step - loss: 0.1160 - accuracy: 0.9699 - val_loss: 0.3064 - val_accuracy: 0.8960\n",
      "Epoch 135/500\n",
      "494/494 [==============================] - 2s 5ms/step - loss: 0.1146 - accuracy: 0.9694 - val_loss: 0.3069 - val_accuracy: 0.8962\n",
      "Epoch 136/500\n",
      "494/494 [==============================] - 2s 4ms/step - loss: 0.1147 - accuracy: 0.9698 - val_loss: 0.3077 - val_accuracy: 0.8945\n",
      "Epoch 00136: early stopping\n"
     ]
    },
    {
     "data": {
      "text/plain": [
       "<tensorflow.python.keras.callbacks.History at 0x1aa5f9db730>"
      ]
     },
     "execution_count": 17,
     "metadata": {},
     "output_type": "execute_result"
    }
   ],
   "source": [
    "from sklearn.model_selection import train_test_split\n",
    "y = df['categoria']\n",
    "x_train, x_test, y_train, y_test = train_test_split(vect, y, test_size=0.25, random_state=42)\n",
    "\n",
    "model = Sequential()\n",
    "\n",
    "model.add(Dense(64, activation='relu', input_dim=32345))\n",
    "model.add(Dropout(.3))\n",
    "model.add(Dense(32, activation='relu'))\n",
    "model.add(Dropout(.3))\n",
    "model.add(Dense(5, activation='softmax'))\n",
    "\n",
    "model.compile(loss=\"categorical_crossentropy\", optimizer=Adam(learning_rate=3e-5), metrics=\"accuracy\")\n",
    "\n",
    "es = EarlyStopping(monitor='val_loss', verbose=1, patience=30)\n",
    "mc = ModelCheckpoint('best_model_final_1.h5', monitor='val_loss', mode='min', save_best_only=True)\n",
    "model.fit(np.asarray(x_train.todense()), pd.get_dummies(y_train.values).values,\n",
    "          validation_data=(np.asarray(x_test.todense()), pd.get_dummies(y_test.values).values), \n",
    "          epochs=500,\n",
    "          callbacks=[es, mc])"
   ]
  },
  {
   "cell_type": "code",
   "execution_count": 18,
   "id": "4dbc9f95",
   "metadata": {},
   "outputs": [],
   "source": [
    "rotulos = {\"Cartão de crédito / Cartão pré-pago\": 0, \"Hipotecas / Empréstimos\": 1, \"Outros\": 2, \n",
    "           \"Roubo / Relatório de disputa\": 3, \"Serviços de conta bancária\": 4}\n",
    "y_test = y_test.map(rotulos)\n",
    "y_train = y_train.map(rotulos)"
   ]
  },
  {
   "cell_type": "code",
   "execution_count": 21,
   "id": "fac0e7ac",
   "metadata": {},
   "outputs": [
    {
     "name": "stdout",
     "output_type": "stream",
     "text": [
      "Treino: 0.978426203469646\n",
      "Teste: 0.8993974679151783\n"
     ]
    }
   ],
   "source": [
    "from tensorflow.keras.models import load_model\n",
    "model = load_model('best_model_final_1.h5')\n",
    "\n",
    "train_preds = [np.argmax(result) for result in model.predict(x_train)]\n",
    "test_preds = [np.argmax(result) for result in model.predict(x_test)]\n",
    "\n",
    "gera_resultado(train_preds, y_train, test_preds, y_test)"
   ]
  },
  {
   "cell_type": "code",
   "execution_count": 22,
   "id": "fd0b8945",
   "metadata": {},
   "outputs": [
    {
     "data": {
      "text/plain": [
       "0.8993925588458618"
      ]
     },
     "execution_count": 22,
     "metadata": {},
     "output_type": "execute_result"
    }
   ],
   "source": [
    "from sklearn.metrics import accuracy_score\n",
    "\n",
    "accuracy_score(y_test, test_preds)"
   ]
  },
  {
   "cell_type": "code",
   "execution_count": null,
   "id": "fc0c58b5",
   "metadata": {},
   "outputs": [],
   "source": []
  },
  {
   "cell_type": "code",
   "execution_count": null,
   "id": "59b7a36a",
   "metadata": {},
   "outputs": [],
   "source": []
  },
  {
   "cell_type": "code",
   "execution_count": 1,
   "id": "0362cdb2",
   "metadata": {},
   "outputs": [],
   "source": []
  },
  {
   "cell_type": "code",
   "execution_count": 2,
   "id": "070bdd65",
   "metadata": {},
   "outputs": [],
   "source": []
  },
  {
   "cell_type": "code",
   "execution_count": 23,
   "id": "56da0326",
   "metadata": {},
   "outputs": [],
   "source": [
    "y = df['categoria']\n",
    "x_train, x_test, y_train, y_test = train_test_split(vect, y, test_size=0.25, random_state=42)"
   ]
  },
  {
   "cell_type": "code",
   "execution_count": 24,
   "id": "93abf9a7",
   "metadata": {},
   "outputs": [],
   "source": [
    "x_train = np.asarray(x_train.todense()).reshape(x_train.shape[0], x_train.shape[1], 1)\n",
    "x_test = np.asarray(x_test.todense()).reshape(x_test.shape[0], x_test.shape[1], 1)"
   ]
  },
  {
   "cell_type": "code",
   "execution_count": 35,
   "id": "f8b8a0e3",
   "metadata": {},
   "outputs": [],
   "source": [
    "from tensorflow.keras.layers import SimpleRNN"
   ]
  },
  {
   "cell_type": "code",
   "execution_count": 40,
   "id": "b7bd923d",
   "metadata": {},
   "outputs": [],
   "source": [
    "model = Sequential()\n",
    "\n",
    "# model.add(Embedding(32655, 128,))\n",
    "model.add(LSTM(32, input_shape=(32345, 1), return_sequences=False))\n",
    "# model.add(Dropout(.3))\n",
    "# model.add(LSTM(32))\n",
    "# model.add(Dropout(.3))\n",
    "model.add(Dense(5, activation='softmax'))\n"
   ]
  },
  {
   "cell_type": "code",
   "execution_count": 41,
   "id": "791fb8b9",
   "metadata": {},
   "outputs": [
    {
     "name": "stdout",
     "output_type": "stream",
     "text": [
      "Epoch 1/30\n",
      "494/494 [==============================] - 420s 850ms/step - loss: 1.5766 - accuracy: 0.2407 - val_loss: 1.5689 - val_accuracy: 0.2473\n",
      "Epoch 2/30\n",
      "189/494 [==========>...................] - ETA: 3:41 - loss: 1.5769 - accuracy: 0.2397"
     ]
    },
    {
     "ename": "KeyboardInterrupt",
     "evalue": "",
     "output_type": "error",
     "traceback": [
      "\u001b[1;31m---------------------------------------------------------------------------\u001b[0m",
      "\u001b[1;31mKeyboardInterrupt\u001b[0m                         Traceback (most recent call last)",
      "Cell \u001b[1;32mIn[41], line 5\u001b[0m\n\u001b[0;32m      3\u001b[0m es \u001b[38;5;241m=\u001b[39m EarlyStopping(monitor\u001b[38;5;241m=\u001b[39m\u001b[38;5;124m'\u001b[39m\u001b[38;5;124mval_loss\u001b[39m\u001b[38;5;124m'\u001b[39m, verbose\u001b[38;5;241m=\u001b[39m\u001b[38;5;241m1\u001b[39m, patience\u001b[38;5;241m=\u001b[39m\u001b[38;5;241m18\u001b[39m)\n\u001b[0;32m      4\u001b[0m mc \u001b[38;5;241m=\u001b[39m ModelCheckpoint(\u001b[38;5;124m'\u001b[39m\u001b[38;5;124mbest_model_final_2.h5\u001b[39m\u001b[38;5;124m'\u001b[39m, monitor\u001b[38;5;241m=\u001b[39m\u001b[38;5;124m'\u001b[39m\u001b[38;5;124mval_loss\u001b[39m\u001b[38;5;124m'\u001b[39m, mode\u001b[38;5;241m=\u001b[39m\u001b[38;5;124m'\u001b[39m\u001b[38;5;124mmin\u001b[39m\u001b[38;5;124m'\u001b[39m, save_best_only\u001b[38;5;241m=\u001b[39m\u001b[38;5;28;01mTrue\u001b[39;00m)\n\u001b[1;32m----> 5\u001b[0m \u001b[43mmodel\u001b[49m\u001b[38;5;241;43m.\u001b[39;49m\u001b[43mfit\u001b[49m\u001b[43m(\u001b[49m\u001b[43mx_train\u001b[49m\u001b[43m,\u001b[49m\u001b[43m \u001b[49m\u001b[43mpd\u001b[49m\u001b[38;5;241;43m.\u001b[39;49m\u001b[43mget_dummies\u001b[49m\u001b[43m(\u001b[49m\u001b[43my_train\u001b[49m\u001b[38;5;241;43m.\u001b[39;49m\u001b[43mvalues\u001b[49m\u001b[43m)\u001b[49m\u001b[38;5;241;43m.\u001b[39;49m\u001b[43mvalues\u001b[49m\u001b[43m,\u001b[49m\n\u001b[0;32m      6\u001b[0m \u001b[43m          \u001b[49m\u001b[43mvalidation_data\u001b[49m\u001b[38;5;241;43m=\u001b[39;49m\u001b[43m(\u001b[49m\u001b[43mx_test\u001b[49m\u001b[43m,\u001b[49m\u001b[43m \u001b[49m\u001b[43mpd\u001b[49m\u001b[38;5;241;43m.\u001b[39;49m\u001b[43mget_dummies\u001b[49m\u001b[43m(\u001b[49m\u001b[43my_test\u001b[49m\u001b[38;5;241;43m.\u001b[39;49m\u001b[43mvalues\u001b[49m\u001b[43m)\u001b[49m\u001b[38;5;241;43m.\u001b[39;49m\u001b[43mvalues\u001b[49m\u001b[43m)\u001b[49m\u001b[43m,\u001b[49m\n\u001b[0;32m      7\u001b[0m \u001b[43m          \u001b[49m\u001b[43mepochs\u001b[49m\u001b[38;5;241;43m=\u001b[39;49m\u001b[38;5;241;43m30\u001b[39;49m\u001b[43m,\u001b[49m\n\u001b[0;32m      8\u001b[0m \u001b[43m          \u001b[49m\u001b[43mcallbacks\u001b[49m\u001b[38;5;241;43m=\u001b[39;49m\u001b[43m[\u001b[49m\u001b[43mes\u001b[49m\u001b[43m,\u001b[49m\u001b[43m \u001b[49m\u001b[43mmc\u001b[49m\u001b[43m]\u001b[49m\u001b[43m)\u001b[49m\n",
      "File \u001b[1;32m~\\.conda\\envs\\gpu\\lib\\site-packages\\tensorflow\\python\\keras\\engine\\training.py:108\u001b[0m, in \u001b[0;36menable_multi_worker.<locals>._method_wrapper\u001b[1;34m(self, *args, **kwargs)\u001b[0m\n\u001b[0;32m    106\u001b[0m \u001b[38;5;28;01mdef\u001b[39;00m \u001b[38;5;21m_method_wrapper\u001b[39m(\u001b[38;5;28mself\u001b[39m, \u001b[38;5;241m*\u001b[39margs, \u001b[38;5;241m*\u001b[39m\u001b[38;5;241m*\u001b[39mkwargs):\n\u001b[0;32m    107\u001b[0m   \u001b[38;5;28;01mif\u001b[39;00m \u001b[38;5;129;01mnot\u001b[39;00m \u001b[38;5;28mself\u001b[39m\u001b[38;5;241m.\u001b[39m_in_multi_worker_mode():  \u001b[38;5;66;03m# pylint: disable=protected-access\u001b[39;00m\n\u001b[1;32m--> 108\u001b[0m     \u001b[38;5;28;01mreturn\u001b[39;00m \u001b[43mmethod\u001b[49m\u001b[43m(\u001b[49m\u001b[38;5;28;43mself\u001b[39;49m\u001b[43m,\u001b[49m\u001b[43m \u001b[49m\u001b[38;5;241;43m*\u001b[39;49m\u001b[43margs\u001b[49m\u001b[43m,\u001b[49m\u001b[43m \u001b[49m\u001b[38;5;241;43m*\u001b[39;49m\u001b[38;5;241;43m*\u001b[39;49m\u001b[43mkwargs\u001b[49m\u001b[43m)\u001b[49m\n\u001b[0;32m    110\u001b[0m   \u001b[38;5;66;03m# Running inside `run_distribute_coordinator` already.\u001b[39;00m\n\u001b[0;32m    111\u001b[0m   \u001b[38;5;28;01mif\u001b[39;00m dc_context\u001b[38;5;241m.\u001b[39mget_current_worker_context():\n",
      "File \u001b[1;32m~\\.conda\\envs\\gpu\\lib\\site-packages\\tensorflow\\python\\keras\\engine\\training.py:1098\u001b[0m, in \u001b[0;36mModel.fit\u001b[1;34m(self, x, y, batch_size, epochs, verbose, callbacks, validation_split, validation_data, shuffle, class_weight, sample_weight, initial_epoch, steps_per_epoch, validation_steps, validation_batch_size, validation_freq, max_queue_size, workers, use_multiprocessing)\u001b[0m\n\u001b[0;32m   1091\u001b[0m \u001b[38;5;28;01mwith\u001b[39;00m trace\u001b[38;5;241m.\u001b[39mTrace(\n\u001b[0;32m   1092\u001b[0m     \u001b[38;5;124m'\u001b[39m\u001b[38;5;124mTraceContext\u001b[39m\u001b[38;5;124m'\u001b[39m,\n\u001b[0;32m   1093\u001b[0m     graph_type\u001b[38;5;241m=\u001b[39m\u001b[38;5;124m'\u001b[39m\u001b[38;5;124mtrain\u001b[39m\u001b[38;5;124m'\u001b[39m,\n\u001b[0;32m   1094\u001b[0m     epoch_num\u001b[38;5;241m=\u001b[39mepoch,\n\u001b[0;32m   1095\u001b[0m     step_num\u001b[38;5;241m=\u001b[39mstep,\n\u001b[0;32m   1096\u001b[0m     batch_size\u001b[38;5;241m=\u001b[39mbatch_size):\n\u001b[0;32m   1097\u001b[0m   callbacks\u001b[38;5;241m.\u001b[39mon_train_batch_begin(step)\n\u001b[1;32m-> 1098\u001b[0m   tmp_logs \u001b[38;5;241m=\u001b[39m \u001b[43mtrain_function\u001b[49m\u001b[43m(\u001b[49m\u001b[43miterator\u001b[49m\u001b[43m)\u001b[49m\n\u001b[0;32m   1099\u001b[0m   \u001b[38;5;28;01mif\u001b[39;00m data_handler\u001b[38;5;241m.\u001b[39mshould_sync:\n\u001b[0;32m   1100\u001b[0m     context\u001b[38;5;241m.\u001b[39masync_wait()\n",
      "File \u001b[1;32m~\\.conda\\envs\\gpu\\lib\\site-packages\\tensorflow\\python\\eager\\def_function.py:780\u001b[0m, in \u001b[0;36mFunction.__call__\u001b[1;34m(self, *args, **kwds)\u001b[0m\n\u001b[0;32m    778\u001b[0m \u001b[38;5;28;01melse\u001b[39;00m:\n\u001b[0;32m    779\u001b[0m   compiler \u001b[38;5;241m=\u001b[39m \u001b[38;5;124m\"\u001b[39m\u001b[38;5;124mnonXla\u001b[39m\u001b[38;5;124m\"\u001b[39m\n\u001b[1;32m--> 780\u001b[0m   result \u001b[38;5;241m=\u001b[39m \u001b[38;5;28;43mself\u001b[39;49m\u001b[38;5;241;43m.\u001b[39;49m\u001b[43m_call\u001b[49m\u001b[43m(\u001b[49m\u001b[38;5;241;43m*\u001b[39;49m\u001b[43margs\u001b[49m\u001b[43m,\u001b[49m\u001b[43m \u001b[49m\u001b[38;5;241;43m*\u001b[39;49m\u001b[38;5;241;43m*\u001b[39;49m\u001b[43mkwds\u001b[49m\u001b[43m)\u001b[49m\n\u001b[0;32m    782\u001b[0m new_tracing_count \u001b[38;5;241m=\u001b[39m \u001b[38;5;28mself\u001b[39m\u001b[38;5;241m.\u001b[39m_get_tracing_count()\n\u001b[0;32m    783\u001b[0m without_tracing \u001b[38;5;241m=\u001b[39m (tracing_count \u001b[38;5;241m==\u001b[39m new_tracing_count)\n",
      "File \u001b[1;32m~\\.conda\\envs\\gpu\\lib\\site-packages\\tensorflow\\python\\eager\\def_function.py:807\u001b[0m, in \u001b[0;36mFunction._call\u001b[1;34m(self, *args, **kwds)\u001b[0m\n\u001b[0;32m    804\u001b[0m   \u001b[38;5;28mself\u001b[39m\u001b[38;5;241m.\u001b[39m_lock\u001b[38;5;241m.\u001b[39mrelease()\n\u001b[0;32m    805\u001b[0m   \u001b[38;5;66;03m# In this case we have created variables on the first call, so we run the\u001b[39;00m\n\u001b[0;32m    806\u001b[0m   \u001b[38;5;66;03m# defunned version which is guaranteed to never create variables.\u001b[39;00m\n\u001b[1;32m--> 807\u001b[0m   \u001b[38;5;28;01mreturn\u001b[39;00m \u001b[38;5;28;43mself\u001b[39;49m\u001b[38;5;241;43m.\u001b[39;49m\u001b[43m_stateless_fn\u001b[49m\u001b[43m(\u001b[49m\u001b[38;5;241;43m*\u001b[39;49m\u001b[43margs\u001b[49m\u001b[43m,\u001b[49m\u001b[43m \u001b[49m\u001b[38;5;241;43m*\u001b[39;49m\u001b[38;5;241;43m*\u001b[39;49m\u001b[43mkwds\u001b[49m\u001b[43m)\u001b[49m  \u001b[38;5;66;03m# pylint: disable=not-callable\u001b[39;00m\n\u001b[0;32m    808\u001b[0m \u001b[38;5;28;01melif\u001b[39;00m \u001b[38;5;28mself\u001b[39m\u001b[38;5;241m.\u001b[39m_stateful_fn \u001b[38;5;129;01mis\u001b[39;00m \u001b[38;5;129;01mnot\u001b[39;00m \u001b[38;5;28;01mNone\u001b[39;00m:\n\u001b[0;32m    809\u001b[0m   \u001b[38;5;66;03m# Release the lock early so that multiple threads can perform the call\u001b[39;00m\n\u001b[0;32m    810\u001b[0m   \u001b[38;5;66;03m# in parallel.\u001b[39;00m\n\u001b[0;32m    811\u001b[0m   \u001b[38;5;28mself\u001b[39m\u001b[38;5;241m.\u001b[39m_lock\u001b[38;5;241m.\u001b[39mrelease()\n",
      "File \u001b[1;32m~\\.conda\\envs\\gpu\\lib\\site-packages\\tensorflow\\python\\eager\\function.py:2829\u001b[0m, in \u001b[0;36mFunction.__call__\u001b[1;34m(self, *args, **kwargs)\u001b[0m\n\u001b[0;32m   2827\u001b[0m \u001b[38;5;28;01mwith\u001b[39;00m \u001b[38;5;28mself\u001b[39m\u001b[38;5;241m.\u001b[39m_lock:\n\u001b[0;32m   2828\u001b[0m   graph_function, args, kwargs \u001b[38;5;241m=\u001b[39m \u001b[38;5;28mself\u001b[39m\u001b[38;5;241m.\u001b[39m_maybe_define_function(args, kwargs)\n\u001b[1;32m-> 2829\u001b[0m \u001b[38;5;28;01mreturn\u001b[39;00m \u001b[43mgraph_function\u001b[49m\u001b[38;5;241;43m.\u001b[39;49m\u001b[43m_filtered_call\u001b[49m\u001b[43m(\u001b[49m\u001b[43margs\u001b[49m\u001b[43m,\u001b[49m\u001b[43m \u001b[49m\u001b[43mkwargs\u001b[49m\u001b[43m)\u001b[49m\n",
      "File \u001b[1;32m~\\.conda\\envs\\gpu\\lib\\site-packages\\tensorflow\\python\\eager\\function.py:1843\u001b[0m, in \u001b[0;36mConcreteFunction._filtered_call\u001b[1;34m(self, args, kwargs, cancellation_manager)\u001b[0m\n\u001b[0;32m   1827\u001b[0m \u001b[38;5;28;01mdef\u001b[39;00m \u001b[38;5;21m_filtered_call\u001b[39m(\u001b[38;5;28mself\u001b[39m, args, kwargs, cancellation_manager\u001b[38;5;241m=\u001b[39m\u001b[38;5;28;01mNone\u001b[39;00m):\n\u001b[0;32m   1828\u001b[0m   \u001b[38;5;124;03m\"\"\"Executes the function, filtering arguments from the Python function.\u001b[39;00m\n\u001b[0;32m   1829\u001b[0m \n\u001b[0;32m   1830\u001b[0m \u001b[38;5;124;03m  Objects aside from Tensors, CompositeTensors, and Variables are ignored.\u001b[39;00m\n\u001b[1;32m   (...)\u001b[0m\n\u001b[0;32m   1841\u001b[0m \u001b[38;5;124;03m    `args` and `kwargs`.\u001b[39;00m\n\u001b[0;32m   1842\u001b[0m \u001b[38;5;124;03m  \"\"\"\u001b[39;00m\n\u001b[1;32m-> 1843\u001b[0m   \u001b[38;5;28;01mreturn\u001b[39;00m \u001b[38;5;28;43mself\u001b[39;49m\u001b[38;5;241;43m.\u001b[39;49m\u001b[43m_call_flat\u001b[49m\u001b[43m(\u001b[49m\n\u001b[0;32m   1844\u001b[0m \u001b[43m      \u001b[49m\u001b[43m[\u001b[49m\u001b[43mt\u001b[49m\u001b[43m \u001b[49m\u001b[38;5;28;43;01mfor\u001b[39;49;00m\u001b[43m \u001b[49m\u001b[43mt\u001b[49m\u001b[43m \u001b[49m\u001b[38;5;129;43;01min\u001b[39;49;00m\u001b[43m \u001b[49m\u001b[43mnest\u001b[49m\u001b[38;5;241;43m.\u001b[39;49m\u001b[43mflatten\u001b[49m\u001b[43m(\u001b[49m\u001b[43m(\u001b[49m\u001b[43margs\u001b[49m\u001b[43m,\u001b[49m\u001b[43m \u001b[49m\u001b[43mkwargs\u001b[49m\u001b[43m)\u001b[49m\u001b[43m,\u001b[49m\u001b[43m \u001b[49m\u001b[43mexpand_composites\u001b[49m\u001b[38;5;241;43m=\u001b[39;49m\u001b[38;5;28;43;01mTrue\u001b[39;49;00m\u001b[43m)\u001b[49m\n\u001b[0;32m   1845\u001b[0m \u001b[43m       \u001b[49m\u001b[38;5;28;43;01mif\u001b[39;49;00m\u001b[43m \u001b[49m\u001b[38;5;28;43misinstance\u001b[39;49m\u001b[43m(\u001b[49m\u001b[43mt\u001b[49m\u001b[43m,\u001b[49m\u001b[43m \u001b[49m\u001b[43m(\u001b[49m\u001b[43mops\u001b[49m\u001b[38;5;241;43m.\u001b[39;49m\u001b[43mTensor\u001b[49m\u001b[43m,\u001b[49m\n\u001b[0;32m   1846\u001b[0m \u001b[43m                         \u001b[49m\u001b[43mresource_variable_ops\u001b[49m\u001b[38;5;241;43m.\u001b[39;49m\u001b[43mBaseResourceVariable\u001b[49m\u001b[43m)\u001b[49m\u001b[43m)\u001b[49m\u001b[43m]\u001b[49m\u001b[43m,\u001b[49m\n\u001b[0;32m   1847\u001b[0m \u001b[43m      \u001b[49m\u001b[43mcaptured_inputs\u001b[49m\u001b[38;5;241;43m=\u001b[39;49m\u001b[38;5;28;43mself\u001b[39;49m\u001b[38;5;241;43m.\u001b[39;49m\u001b[43mcaptured_inputs\u001b[49m\u001b[43m,\u001b[49m\n\u001b[0;32m   1848\u001b[0m \u001b[43m      \u001b[49m\u001b[43mcancellation_manager\u001b[49m\u001b[38;5;241;43m=\u001b[39;49m\u001b[43mcancellation_manager\u001b[49m\u001b[43m)\u001b[49m\n",
      "File \u001b[1;32m~\\.conda\\envs\\gpu\\lib\\site-packages\\tensorflow\\python\\eager\\function.py:1923\u001b[0m, in \u001b[0;36mConcreteFunction._call_flat\u001b[1;34m(self, args, captured_inputs, cancellation_manager)\u001b[0m\n\u001b[0;32m   1918\u001b[0m possible_gradient_type \u001b[38;5;241m=\u001b[39m (\n\u001b[0;32m   1919\u001b[0m     pywrap_tfe\u001b[38;5;241m.\u001b[39mTFE_Py_TapeSetPossibleGradientTypes(args))\n\u001b[0;32m   1920\u001b[0m \u001b[38;5;28;01mif\u001b[39;00m (possible_gradient_type \u001b[38;5;241m==\u001b[39m _POSSIBLE_GRADIENT_TYPES_NONE\n\u001b[0;32m   1921\u001b[0m     \u001b[38;5;129;01mand\u001b[39;00m executing_eagerly):\n\u001b[0;32m   1922\u001b[0m   \u001b[38;5;66;03m# No tape is watching; skip to running the function.\u001b[39;00m\n\u001b[1;32m-> 1923\u001b[0m   \u001b[38;5;28;01mreturn\u001b[39;00m \u001b[38;5;28mself\u001b[39m\u001b[38;5;241m.\u001b[39m_build_call_outputs(\u001b[38;5;28;43mself\u001b[39;49m\u001b[38;5;241;43m.\u001b[39;49m\u001b[43m_inference_function\u001b[49m\u001b[38;5;241;43m.\u001b[39;49m\u001b[43mcall\u001b[49m\u001b[43m(\u001b[49m\n\u001b[0;32m   1924\u001b[0m \u001b[43m      \u001b[49m\u001b[43mctx\u001b[49m\u001b[43m,\u001b[49m\u001b[43m \u001b[49m\u001b[43margs\u001b[49m\u001b[43m,\u001b[49m\u001b[43m \u001b[49m\u001b[43mcancellation_manager\u001b[49m\u001b[38;5;241;43m=\u001b[39;49m\u001b[43mcancellation_manager\u001b[49m\u001b[43m)\u001b[49m)\n\u001b[0;32m   1925\u001b[0m forward_backward \u001b[38;5;241m=\u001b[39m \u001b[38;5;28mself\u001b[39m\u001b[38;5;241m.\u001b[39m_select_forward_and_backward_functions(\n\u001b[0;32m   1926\u001b[0m     args,\n\u001b[0;32m   1927\u001b[0m     possible_gradient_type,\n\u001b[0;32m   1928\u001b[0m     executing_eagerly)\n\u001b[0;32m   1929\u001b[0m forward_function, args_with_tangents \u001b[38;5;241m=\u001b[39m forward_backward\u001b[38;5;241m.\u001b[39mforward()\n",
      "File \u001b[1;32m~\\.conda\\envs\\gpu\\lib\\site-packages\\tensorflow\\python\\eager\\function.py:545\u001b[0m, in \u001b[0;36m_EagerDefinedFunction.call\u001b[1;34m(self, ctx, args, cancellation_manager)\u001b[0m\n\u001b[0;32m    543\u001b[0m \u001b[38;5;28;01mwith\u001b[39;00m _InterpolateFunctionError(\u001b[38;5;28mself\u001b[39m):\n\u001b[0;32m    544\u001b[0m   \u001b[38;5;28;01mif\u001b[39;00m cancellation_manager \u001b[38;5;129;01mis\u001b[39;00m \u001b[38;5;28;01mNone\u001b[39;00m:\n\u001b[1;32m--> 545\u001b[0m     outputs \u001b[38;5;241m=\u001b[39m \u001b[43mexecute\u001b[49m\u001b[38;5;241;43m.\u001b[39;49m\u001b[43mexecute\u001b[49m\u001b[43m(\u001b[49m\n\u001b[0;32m    546\u001b[0m \u001b[43m        \u001b[49m\u001b[38;5;28;43mstr\u001b[39;49m\u001b[43m(\u001b[49m\u001b[38;5;28;43mself\u001b[39;49m\u001b[38;5;241;43m.\u001b[39;49m\u001b[43msignature\u001b[49m\u001b[38;5;241;43m.\u001b[39;49m\u001b[43mname\u001b[49m\u001b[43m)\u001b[49m\u001b[43m,\u001b[49m\n\u001b[0;32m    547\u001b[0m \u001b[43m        \u001b[49m\u001b[43mnum_outputs\u001b[49m\u001b[38;5;241;43m=\u001b[39;49m\u001b[38;5;28;43mself\u001b[39;49m\u001b[38;5;241;43m.\u001b[39;49m\u001b[43m_num_outputs\u001b[49m\u001b[43m,\u001b[49m\n\u001b[0;32m    548\u001b[0m \u001b[43m        \u001b[49m\u001b[43minputs\u001b[49m\u001b[38;5;241;43m=\u001b[39;49m\u001b[43margs\u001b[49m\u001b[43m,\u001b[49m\n\u001b[0;32m    549\u001b[0m \u001b[43m        \u001b[49m\u001b[43mattrs\u001b[49m\u001b[38;5;241;43m=\u001b[39;49m\u001b[43mattrs\u001b[49m\u001b[43m,\u001b[49m\n\u001b[0;32m    550\u001b[0m \u001b[43m        \u001b[49m\u001b[43mctx\u001b[49m\u001b[38;5;241;43m=\u001b[39;49m\u001b[43mctx\u001b[49m\u001b[43m)\u001b[49m\n\u001b[0;32m    551\u001b[0m   \u001b[38;5;28;01melse\u001b[39;00m:\n\u001b[0;32m    552\u001b[0m     outputs \u001b[38;5;241m=\u001b[39m execute\u001b[38;5;241m.\u001b[39mexecute_with_cancellation(\n\u001b[0;32m    553\u001b[0m         \u001b[38;5;28mstr\u001b[39m(\u001b[38;5;28mself\u001b[39m\u001b[38;5;241m.\u001b[39msignature\u001b[38;5;241m.\u001b[39mname),\n\u001b[0;32m    554\u001b[0m         num_outputs\u001b[38;5;241m=\u001b[39m\u001b[38;5;28mself\u001b[39m\u001b[38;5;241m.\u001b[39m_num_outputs,\n\u001b[1;32m   (...)\u001b[0m\n\u001b[0;32m    557\u001b[0m         ctx\u001b[38;5;241m=\u001b[39mctx,\n\u001b[0;32m    558\u001b[0m         cancellation_manager\u001b[38;5;241m=\u001b[39mcancellation_manager)\n",
      "File \u001b[1;32m~\\.conda\\envs\\gpu\\lib\\site-packages\\tensorflow\\python\\eager\\execute.py:59\u001b[0m, in \u001b[0;36mquick_execute\u001b[1;34m(op_name, num_outputs, inputs, attrs, ctx, name)\u001b[0m\n\u001b[0;32m     57\u001b[0m \u001b[38;5;28;01mtry\u001b[39;00m:\n\u001b[0;32m     58\u001b[0m   ctx\u001b[38;5;241m.\u001b[39mensure_initialized()\n\u001b[1;32m---> 59\u001b[0m   tensors \u001b[38;5;241m=\u001b[39m \u001b[43mpywrap_tfe\u001b[49m\u001b[38;5;241;43m.\u001b[39;49m\u001b[43mTFE_Py_Execute\u001b[49m\u001b[43m(\u001b[49m\u001b[43mctx\u001b[49m\u001b[38;5;241;43m.\u001b[39;49m\u001b[43m_handle\u001b[49m\u001b[43m,\u001b[49m\u001b[43m \u001b[49m\u001b[43mdevice_name\u001b[49m\u001b[43m,\u001b[49m\u001b[43m \u001b[49m\u001b[43mop_name\u001b[49m\u001b[43m,\u001b[49m\n\u001b[0;32m     60\u001b[0m \u001b[43m                                      \u001b[49m\u001b[43minputs\u001b[49m\u001b[43m,\u001b[49m\u001b[43m \u001b[49m\u001b[43mattrs\u001b[49m\u001b[43m,\u001b[49m\u001b[43m \u001b[49m\u001b[43mnum_outputs\u001b[49m\u001b[43m)\u001b[49m\n\u001b[0;32m     61\u001b[0m \u001b[38;5;28;01mexcept\u001b[39;00m core\u001b[38;5;241m.\u001b[39m_NotOkStatusException \u001b[38;5;28;01mas\u001b[39;00m e:\n\u001b[0;32m     62\u001b[0m   \u001b[38;5;28;01mif\u001b[39;00m name \u001b[38;5;129;01mis\u001b[39;00m \u001b[38;5;129;01mnot\u001b[39;00m \u001b[38;5;28;01mNone\u001b[39;00m:\n",
      "\u001b[1;31mKeyboardInterrupt\u001b[0m: "
     ]
    }
   ],
   "source": [
    "model.compile(loss=\"categorical_crossentropy\", optimizer='adam', metrics=\"accuracy\")\n",
    "\n",
    "es = EarlyStopping(monitor='val_loss', verbose=1, patience=18)\n",
    "mc = ModelCheckpoint('best_model_final_2.h5', monitor='val_loss', mode='min', save_best_only=True)\n",
    "model.fit(x_train, pd.get_dummies(y_train.values).values,\n",
    "          validation_data=(x_test, pd.get_dummies(y_test.values).values),\n",
    "          epochs=30,\n",
    "          callbacks=[es, mc])"
   ]
  },
  {
   "cell_type": "code",
   "execution_count": null,
   "id": "d4ae54cc",
   "metadata": {},
   "outputs": [],
   "source": []
  },
  {
   "cell_type": "code",
   "execution_count": null,
   "id": "d80f31c2",
   "metadata": {},
   "outputs": [],
   "source": []
  },
  {
   "cell_type": "code",
   "execution_count": 35,
   "id": "f2d3ce5b",
   "metadata": {},
   "outputs": [],
   "source": [
    "from tensorflow.keras.layers import SimpleRNN"
   ]
  },
  {
   "cell_type": "code",
   "execution_count": 44,
   "id": "57840c59",
   "metadata": {},
   "outputs": [],
   "source": [
    "model = Sequential()\n",
    "\n",
    "# model.add(Embedding(32655, 128,))\n",
    "model.add(SimpleRNN(64, input_shape=(31821, 1), return_sequences=True, activation='relu'))\n",
    "model.add(Dropout(.3))\n",
    "model.add(SimpleRNN(32, activation='relu'))\n",
    "model.add(Dropout(.3))\n",
    "model.add(Dense(5, activation='softmax'))"
   ]
  },
  {
   "cell_type": "code",
   "execution_count": 45,
   "id": "e4ecdd95",
   "metadata": {},
   "outputs": [
    {
     "name": "stdout",
     "output_type": "stream",
     "text": [
      "Epoch 1/30\n",
      "  4/494 [..............................] - ETA: 5:02:50 - loss: 1.6080 - accuracy: 0.2422"
     ]
    },
    {
     "ename": "KeyboardInterrupt",
     "evalue": "",
     "output_type": "error",
     "traceback": [
      "\u001b[1;31m---------------------------------------------------------------------------\u001b[0m",
      "\u001b[1;31mKeyboardInterrupt\u001b[0m                         Traceback (most recent call last)",
      "Cell \u001b[1;32mIn[45], line 5\u001b[0m\n\u001b[0;32m      3\u001b[0m es \u001b[38;5;241m=\u001b[39m EarlyStopping(monitor\u001b[38;5;241m=\u001b[39m\u001b[38;5;124m'\u001b[39m\u001b[38;5;124mval_loss\u001b[39m\u001b[38;5;124m'\u001b[39m, verbose\u001b[38;5;241m=\u001b[39m\u001b[38;5;241m1\u001b[39m, patience\u001b[38;5;241m=\u001b[39m\u001b[38;5;241m18\u001b[39m)\n\u001b[0;32m      4\u001b[0m mc \u001b[38;5;241m=\u001b[39m ModelCheckpoint(\u001b[38;5;124m'\u001b[39m\u001b[38;5;124mbest_model_final_2.h5\u001b[39m\u001b[38;5;124m'\u001b[39m, monitor\u001b[38;5;241m=\u001b[39m\u001b[38;5;124m'\u001b[39m\u001b[38;5;124mval_loss\u001b[39m\u001b[38;5;124m'\u001b[39m, mode\u001b[38;5;241m=\u001b[39m\u001b[38;5;124m'\u001b[39m\u001b[38;5;124mmin\u001b[39m\u001b[38;5;124m'\u001b[39m, save_best_only\u001b[38;5;241m=\u001b[39m\u001b[38;5;28;01mTrue\u001b[39;00m)\n\u001b[1;32m----> 5\u001b[0m \u001b[43mmodel\u001b[49m\u001b[38;5;241;43m.\u001b[39;49m\u001b[43mfit\u001b[49m\u001b[43m(\u001b[49m\u001b[43mx_train\u001b[49m\u001b[43m,\u001b[49m\u001b[43m \u001b[49m\u001b[43mpd\u001b[49m\u001b[38;5;241;43m.\u001b[39;49m\u001b[43mget_dummies\u001b[49m\u001b[43m(\u001b[49m\u001b[43my_train\u001b[49m\u001b[38;5;241;43m.\u001b[39;49m\u001b[43mvalues\u001b[49m\u001b[43m)\u001b[49m\u001b[38;5;241;43m.\u001b[39;49m\u001b[43mvalues\u001b[49m\u001b[43m,\u001b[49m\n\u001b[0;32m      6\u001b[0m \u001b[43m          \u001b[49m\u001b[43mvalidation_data\u001b[49m\u001b[38;5;241;43m=\u001b[39;49m\u001b[43m(\u001b[49m\u001b[43mx_test\u001b[49m\u001b[43m,\u001b[49m\u001b[43m \u001b[49m\u001b[43mpd\u001b[49m\u001b[38;5;241;43m.\u001b[39;49m\u001b[43mget_dummies\u001b[49m\u001b[43m(\u001b[49m\u001b[43my_test\u001b[49m\u001b[38;5;241;43m.\u001b[39;49m\u001b[43mvalues\u001b[49m\u001b[43m)\u001b[49m\u001b[38;5;241;43m.\u001b[39;49m\u001b[43mvalues\u001b[49m\u001b[43m)\u001b[49m\u001b[43m,\u001b[49m\u001b[43m \u001b[49m\n\u001b[0;32m      7\u001b[0m \u001b[43m          \u001b[49m\u001b[43mepochs\u001b[49m\u001b[38;5;241;43m=\u001b[39;49m\u001b[38;5;241;43m30\u001b[39;49m\u001b[43m,\u001b[49m\n\u001b[0;32m      8\u001b[0m \u001b[43m          \u001b[49m\u001b[43mcallbacks\u001b[49m\u001b[38;5;241;43m=\u001b[39;49m\u001b[43m[\u001b[49m\u001b[43mes\u001b[49m\u001b[43m,\u001b[49m\u001b[43m \u001b[49m\u001b[43mmc\u001b[49m\u001b[43m]\u001b[49m\u001b[43m)\u001b[49m\n",
      "File \u001b[1;32m~\\.conda\\envs\\gpu\\lib\\site-packages\\tensorflow\\python\\keras\\engine\\training.py:108\u001b[0m, in \u001b[0;36menable_multi_worker.<locals>._method_wrapper\u001b[1;34m(self, *args, **kwargs)\u001b[0m\n\u001b[0;32m    106\u001b[0m \u001b[38;5;28;01mdef\u001b[39;00m \u001b[38;5;21m_method_wrapper\u001b[39m(\u001b[38;5;28mself\u001b[39m, \u001b[38;5;241m*\u001b[39margs, \u001b[38;5;241m*\u001b[39m\u001b[38;5;241m*\u001b[39mkwargs):\n\u001b[0;32m    107\u001b[0m   \u001b[38;5;28;01mif\u001b[39;00m \u001b[38;5;129;01mnot\u001b[39;00m \u001b[38;5;28mself\u001b[39m\u001b[38;5;241m.\u001b[39m_in_multi_worker_mode():  \u001b[38;5;66;03m# pylint: disable=protected-access\u001b[39;00m\n\u001b[1;32m--> 108\u001b[0m     \u001b[38;5;28;01mreturn\u001b[39;00m \u001b[43mmethod\u001b[49m\u001b[43m(\u001b[49m\u001b[38;5;28;43mself\u001b[39;49m\u001b[43m,\u001b[49m\u001b[43m \u001b[49m\u001b[38;5;241;43m*\u001b[39;49m\u001b[43margs\u001b[49m\u001b[43m,\u001b[49m\u001b[43m \u001b[49m\u001b[38;5;241;43m*\u001b[39;49m\u001b[38;5;241;43m*\u001b[39;49m\u001b[43mkwargs\u001b[49m\u001b[43m)\u001b[49m\n\u001b[0;32m    110\u001b[0m   \u001b[38;5;66;03m# Running inside `run_distribute_coordinator` already.\u001b[39;00m\n\u001b[0;32m    111\u001b[0m   \u001b[38;5;28;01mif\u001b[39;00m dc_context\u001b[38;5;241m.\u001b[39mget_current_worker_context():\n",
      "File \u001b[1;32m~\\.conda\\envs\\gpu\\lib\\site-packages\\tensorflow\\python\\keras\\engine\\training.py:1098\u001b[0m, in \u001b[0;36mModel.fit\u001b[1;34m(self, x, y, batch_size, epochs, verbose, callbacks, validation_split, validation_data, shuffle, class_weight, sample_weight, initial_epoch, steps_per_epoch, validation_steps, validation_batch_size, validation_freq, max_queue_size, workers, use_multiprocessing)\u001b[0m\n\u001b[0;32m   1091\u001b[0m \u001b[38;5;28;01mwith\u001b[39;00m trace\u001b[38;5;241m.\u001b[39mTrace(\n\u001b[0;32m   1092\u001b[0m     \u001b[38;5;124m'\u001b[39m\u001b[38;5;124mTraceContext\u001b[39m\u001b[38;5;124m'\u001b[39m,\n\u001b[0;32m   1093\u001b[0m     graph_type\u001b[38;5;241m=\u001b[39m\u001b[38;5;124m'\u001b[39m\u001b[38;5;124mtrain\u001b[39m\u001b[38;5;124m'\u001b[39m,\n\u001b[0;32m   1094\u001b[0m     epoch_num\u001b[38;5;241m=\u001b[39mepoch,\n\u001b[0;32m   1095\u001b[0m     step_num\u001b[38;5;241m=\u001b[39mstep,\n\u001b[0;32m   1096\u001b[0m     batch_size\u001b[38;5;241m=\u001b[39mbatch_size):\n\u001b[0;32m   1097\u001b[0m   callbacks\u001b[38;5;241m.\u001b[39mon_train_batch_begin(step)\n\u001b[1;32m-> 1098\u001b[0m   tmp_logs \u001b[38;5;241m=\u001b[39m \u001b[43mtrain_function\u001b[49m\u001b[43m(\u001b[49m\u001b[43miterator\u001b[49m\u001b[43m)\u001b[49m\n\u001b[0;32m   1099\u001b[0m   \u001b[38;5;28;01mif\u001b[39;00m data_handler\u001b[38;5;241m.\u001b[39mshould_sync:\n\u001b[0;32m   1100\u001b[0m     context\u001b[38;5;241m.\u001b[39masync_wait()\n",
      "File \u001b[1;32m~\\.conda\\envs\\gpu\\lib\\site-packages\\tensorflow\\python\\eager\\def_function.py:780\u001b[0m, in \u001b[0;36mFunction.__call__\u001b[1;34m(self, *args, **kwds)\u001b[0m\n\u001b[0;32m    778\u001b[0m \u001b[38;5;28;01melse\u001b[39;00m:\n\u001b[0;32m    779\u001b[0m   compiler \u001b[38;5;241m=\u001b[39m \u001b[38;5;124m\"\u001b[39m\u001b[38;5;124mnonXla\u001b[39m\u001b[38;5;124m\"\u001b[39m\n\u001b[1;32m--> 780\u001b[0m   result \u001b[38;5;241m=\u001b[39m \u001b[38;5;28;43mself\u001b[39;49m\u001b[38;5;241;43m.\u001b[39;49m\u001b[43m_call\u001b[49m\u001b[43m(\u001b[49m\u001b[38;5;241;43m*\u001b[39;49m\u001b[43margs\u001b[49m\u001b[43m,\u001b[49m\u001b[43m \u001b[49m\u001b[38;5;241;43m*\u001b[39;49m\u001b[38;5;241;43m*\u001b[39;49m\u001b[43mkwds\u001b[49m\u001b[43m)\u001b[49m\n\u001b[0;32m    782\u001b[0m new_tracing_count \u001b[38;5;241m=\u001b[39m \u001b[38;5;28mself\u001b[39m\u001b[38;5;241m.\u001b[39m_get_tracing_count()\n\u001b[0;32m    783\u001b[0m without_tracing \u001b[38;5;241m=\u001b[39m (tracing_count \u001b[38;5;241m==\u001b[39m new_tracing_count)\n",
      "File \u001b[1;32m~\\.conda\\envs\\gpu\\lib\\site-packages\\tensorflow\\python\\eager\\def_function.py:807\u001b[0m, in \u001b[0;36mFunction._call\u001b[1;34m(self, *args, **kwds)\u001b[0m\n\u001b[0;32m    804\u001b[0m   \u001b[38;5;28mself\u001b[39m\u001b[38;5;241m.\u001b[39m_lock\u001b[38;5;241m.\u001b[39mrelease()\n\u001b[0;32m    805\u001b[0m   \u001b[38;5;66;03m# In this case we have created variables on the first call, so we run the\u001b[39;00m\n\u001b[0;32m    806\u001b[0m   \u001b[38;5;66;03m# defunned version which is guaranteed to never create variables.\u001b[39;00m\n\u001b[1;32m--> 807\u001b[0m   \u001b[38;5;28;01mreturn\u001b[39;00m \u001b[38;5;28;43mself\u001b[39;49m\u001b[38;5;241;43m.\u001b[39;49m\u001b[43m_stateless_fn\u001b[49m\u001b[43m(\u001b[49m\u001b[38;5;241;43m*\u001b[39;49m\u001b[43margs\u001b[49m\u001b[43m,\u001b[49m\u001b[43m \u001b[49m\u001b[38;5;241;43m*\u001b[39;49m\u001b[38;5;241;43m*\u001b[39;49m\u001b[43mkwds\u001b[49m\u001b[43m)\u001b[49m  \u001b[38;5;66;03m# pylint: disable=not-callable\u001b[39;00m\n\u001b[0;32m    808\u001b[0m \u001b[38;5;28;01melif\u001b[39;00m \u001b[38;5;28mself\u001b[39m\u001b[38;5;241m.\u001b[39m_stateful_fn \u001b[38;5;129;01mis\u001b[39;00m \u001b[38;5;129;01mnot\u001b[39;00m \u001b[38;5;28;01mNone\u001b[39;00m:\n\u001b[0;32m    809\u001b[0m   \u001b[38;5;66;03m# Release the lock early so that multiple threads can perform the call\u001b[39;00m\n\u001b[0;32m    810\u001b[0m   \u001b[38;5;66;03m# in parallel.\u001b[39;00m\n\u001b[0;32m    811\u001b[0m   \u001b[38;5;28mself\u001b[39m\u001b[38;5;241m.\u001b[39m_lock\u001b[38;5;241m.\u001b[39mrelease()\n",
      "File \u001b[1;32m~\\.conda\\envs\\gpu\\lib\\site-packages\\tensorflow\\python\\eager\\function.py:2829\u001b[0m, in \u001b[0;36mFunction.__call__\u001b[1;34m(self, *args, **kwargs)\u001b[0m\n\u001b[0;32m   2827\u001b[0m \u001b[38;5;28;01mwith\u001b[39;00m \u001b[38;5;28mself\u001b[39m\u001b[38;5;241m.\u001b[39m_lock:\n\u001b[0;32m   2828\u001b[0m   graph_function, args, kwargs \u001b[38;5;241m=\u001b[39m \u001b[38;5;28mself\u001b[39m\u001b[38;5;241m.\u001b[39m_maybe_define_function(args, kwargs)\n\u001b[1;32m-> 2829\u001b[0m \u001b[38;5;28;01mreturn\u001b[39;00m \u001b[43mgraph_function\u001b[49m\u001b[38;5;241;43m.\u001b[39;49m\u001b[43m_filtered_call\u001b[49m\u001b[43m(\u001b[49m\u001b[43margs\u001b[49m\u001b[43m,\u001b[49m\u001b[43m \u001b[49m\u001b[43mkwargs\u001b[49m\u001b[43m)\u001b[49m\n",
      "File \u001b[1;32m~\\.conda\\envs\\gpu\\lib\\site-packages\\tensorflow\\python\\eager\\function.py:1843\u001b[0m, in \u001b[0;36mConcreteFunction._filtered_call\u001b[1;34m(self, args, kwargs, cancellation_manager)\u001b[0m\n\u001b[0;32m   1827\u001b[0m \u001b[38;5;28;01mdef\u001b[39;00m \u001b[38;5;21m_filtered_call\u001b[39m(\u001b[38;5;28mself\u001b[39m, args, kwargs, cancellation_manager\u001b[38;5;241m=\u001b[39m\u001b[38;5;28;01mNone\u001b[39;00m):\n\u001b[0;32m   1828\u001b[0m   \u001b[38;5;124;03m\"\"\"Executes the function, filtering arguments from the Python function.\u001b[39;00m\n\u001b[0;32m   1829\u001b[0m \n\u001b[0;32m   1830\u001b[0m \u001b[38;5;124;03m  Objects aside from Tensors, CompositeTensors, and Variables are ignored.\u001b[39;00m\n\u001b[1;32m   (...)\u001b[0m\n\u001b[0;32m   1841\u001b[0m \u001b[38;5;124;03m    `args` and `kwargs`.\u001b[39;00m\n\u001b[0;32m   1842\u001b[0m \u001b[38;5;124;03m  \"\"\"\u001b[39;00m\n\u001b[1;32m-> 1843\u001b[0m   \u001b[38;5;28;01mreturn\u001b[39;00m \u001b[38;5;28;43mself\u001b[39;49m\u001b[38;5;241;43m.\u001b[39;49m\u001b[43m_call_flat\u001b[49m\u001b[43m(\u001b[49m\n\u001b[0;32m   1844\u001b[0m \u001b[43m      \u001b[49m\u001b[43m[\u001b[49m\u001b[43mt\u001b[49m\u001b[43m \u001b[49m\u001b[38;5;28;43;01mfor\u001b[39;49;00m\u001b[43m \u001b[49m\u001b[43mt\u001b[49m\u001b[43m \u001b[49m\u001b[38;5;129;43;01min\u001b[39;49;00m\u001b[43m \u001b[49m\u001b[43mnest\u001b[49m\u001b[38;5;241;43m.\u001b[39;49m\u001b[43mflatten\u001b[49m\u001b[43m(\u001b[49m\u001b[43m(\u001b[49m\u001b[43margs\u001b[49m\u001b[43m,\u001b[49m\u001b[43m \u001b[49m\u001b[43mkwargs\u001b[49m\u001b[43m)\u001b[49m\u001b[43m,\u001b[49m\u001b[43m \u001b[49m\u001b[43mexpand_composites\u001b[49m\u001b[38;5;241;43m=\u001b[39;49m\u001b[38;5;28;43;01mTrue\u001b[39;49;00m\u001b[43m)\u001b[49m\n\u001b[0;32m   1845\u001b[0m \u001b[43m       \u001b[49m\u001b[38;5;28;43;01mif\u001b[39;49;00m\u001b[43m \u001b[49m\u001b[38;5;28;43misinstance\u001b[39;49m\u001b[43m(\u001b[49m\u001b[43mt\u001b[49m\u001b[43m,\u001b[49m\u001b[43m \u001b[49m\u001b[43m(\u001b[49m\u001b[43mops\u001b[49m\u001b[38;5;241;43m.\u001b[39;49m\u001b[43mTensor\u001b[49m\u001b[43m,\u001b[49m\n\u001b[0;32m   1846\u001b[0m \u001b[43m                         \u001b[49m\u001b[43mresource_variable_ops\u001b[49m\u001b[38;5;241;43m.\u001b[39;49m\u001b[43mBaseResourceVariable\u001b[49m\u001b[43m)\u001b[49m\u001b[43m)\u001b[49m\u001b[43m]\u001b[49m\u001b[43m,\u001b[49m\n\u001b[0;32m   1847\u001b[0m \u001b[43m      \u001b[49m\u001b[43mcaptured_inputs\u001b[49m\u001b[38;5;241;43m=\u001b[39;49m\u001b[38;5;28;43mself\u001b[39;49m\u001b[38;5;241;43m.\u001b[39;49m\u001b[43mcaptured_inputs\u001b[49m\u001b[43m,\u001b[49m\n\u001b[0;32m   1848\u001b[0m \u001b[43m      \u001b[49m\u001b[43mcancellation_manager\u001b[49m\u001b[38;5;241;43m=\u001b[39;49m\u001b[43mcancellation_manager\u001b[49m\u001b[43m)\u001b[49m\n",
      "File \u001b[1;32m~\\.conda\\envs\\gpu\\lib\\site-packages\\tensorflow\\python\\eager\\function.py:1923\u001b[0m, in \u001b[0;36mConcreteFunction._call_flat\u001b[1;34m(self, args, captured_inputs, cancellation_manager)\u001b[0m\n\u001b[0;32m   1918\u001b[0m possible_gradient_type \u001b[38;5;241m=\u001b[39m (\n\u001b[0;32m   1919\u001b[0m     pywrap_tfe\u001b[38;5;241m.\u001b[39mTFE_Py_TapeSetPossibleGradientTypes(args))\n\u001b[0;32m   1920\u001b[0m \u001b[38;5;28;01mif\u001b[39;00m (possible_gradient_type \u001b[38;5;241m==\u001b[39m _POSSIBLE_GRADIENT_TYPES_NONE\n\u001b[0;32m   1921\u001b[0m     \u001b[38;5;129;01mand\u001b[39;00m executing_eagerly):\n\u001b[0;32m   1922\u001b[0m   \u001b[38;5;66;03m# No tape is watching; skip to running the function.\u001b[39;00m\n\u001b[1;32m-> 1923\u001b[0m   \u001b[38;5;28;01mreturn\u001b[39;00m \u001b[38;5;28mself\u001b[39m\u001b[38;5;241m.\u001b[39m_build_call_outputs(\u001b[38;5;28;43mself\u001b[39;49m\u001b[38;5;241;43m.\u001b[39;49m\u001b[43m_inference_function\u001b[49m\u001b[38;5;241;43m.\u001b[39;49m\u001b[43mcall\u001b[49m\u001b[43m(\u001b[49m\n\u001b[0;32m   1924\u001b[0m \u001b[43m      \u001b[49m\u001b[43mctx\u001b[49m\u001b[43m,\u001b[49m\u001b[43m \u001b[49m\u001b[43margs\u001b[49m\u001b[43m,\u001b[49m\u001b[43m \u001b[49m\u001b[43mcancellation_manager\u001b[49m\u001b[38;5;241;43m=\u001b[39;49m\u001b[43mcancellation_manager\u001b[49m\u001b[43m)\u001b[49m)\n\u001b[0;32m   1925\u001b[0m forward_backward \u001b[38;5;241m=\u001b[39m \u001b[38;5;28mself\u001b[39m\u001b[38;5;241m.\u001b[39m_select_forward_and_backward_functions(\n\u001b[0;32m   1926\u001b[0m     args,\n\u001b[0;32m   1927\u001b[0m     possible_gradient_type,\n\u001b[0;32m   1928\u001b[0m     executing_eagerly)\n\u001b[0;32m   1929\u001b[0m forward_function, args_with_tangents \u001b[38;5;241m=\u001b[39m forward_backward\u001b[38;5;241m.\u001b[39mforward()\n",
      "File \u001b[1;32m~\\.conda\\envs\\gpu\\lib\\site-packages\\tensorflow\\python\\eager\\function.py:545\u001b[0m, in \u001b[0;36m_EagerDefinedFunction.call\u001b[1;34m(self, ctx, args, cancellation_manager)\u001b[0m\n\u001b[0;32m    543\u001b[0m \u001b[38;5;28;01mwith\u001b[39;00m _InterpolateFunctionError(\u001b[38;5;28mself\u001b[39m):\n\u001b[0;32m    544\u001b[0m   \u001b[38;5;28;01mif\u001b[39;00m cancellation_manager \u001b[38;5;129;01mis\u001b[39;00m \u001b[38;5;28;01mNone\u001b[39;00m:\n\u001b[1;32m--> 545\u001b[0m     outputs \u001b[38;5;241m=\u001b[39m \u001b[43mexecute\u001b[49m\u001b[38;5;241;43m.\u001b[39;49m\u001b[43mexecute\u001b[49m\u001b[43m(\u001b[49m\n\u001b[0;32m    546\u001b[0m \u001b[43m        \u001b[49m\u001b[38;5;28;43mstr\u001b[39;49m\u001b[43m(\u001b[49m\u001b[38;5;28;43mself\u001b[39;49m\u001b[38;5;241;43m.\u001b[39;49m\u001b[43msignature\u001b[49m\u001b[38;5;241;43m.\u001b[39;49m\u001b[43mname\u001b[49m\u001b[43m)\u001b[49m\u001b[43m,\u001b[49m\n\u001b[0;32m    547\u001b[0m \u001b[43m        \u001b[49m\u001b[43mnum_outputs\u001b[49m\u001b[38;5;241;43m=\u001b[39;49m\u001b[38;5;28;43mself\u001b[39;49m\u001b[38;5;241;43m.\u001b[39;49m\u001b[43m_num_outputs\u001b[49m\u001b[43m,\u001b[49m\n\u001b[0;32m    548\u001b[0m \u001b[43m        \u001b[49m\u001b[43minputs\u001b[49m\u001b[38;5;241;43m=\u001b[39;49m\u001b[43margs\u001b[49m\u001b[43m,\u001b[49m\n\u001b[0;32m    549\u001b[0m \u001b[43m        \u001b[49m\u001b[43mattrs\u001b[49m\u001b[38;5;241;43m=\u001b[39;49m\u001b[43mattrs\u001b[49m\u001b[43m,\u001b[49m\n\u001b[0;32m    550\u001b[0m \u001b[43m        \u001b[49m\u001b[43mctx\u001b[49m\u001b[38;5;241;43m=\u001b[39;49m\u001b[43mctx\u001b[49m\u001b[43m)\u001b[49m\n\u001b[0;32m    551\u001b[0m   \u001b[38;5;28;01melse\u001b[39;00m:\n\u001b[0;32m    552\u001b[0m     outputs \u001b[38;5;241m=\u001b[39m execute\u001b[38;5;241m.\u001b[39mexecute_with_cancellation(\n\u001b[0;32m    553\u001b[0m         \u001b[38;5;28mstr\u001b[39m(\u001b[38;5;28mself\u001b[39m\u001b[38;5;241m.\u001b[39msignature\u001b[38;5;241m.\u001b[39mname),\n\u001b[0;32m    554\u001b[0m         num_outputs\u001b[38;5;241m=\u001b[39m\u001b[38;5;28mself\u001b[39m\u001b[38;5;241m.\u001b[39m_num_outputs,\n\u001b[1;32m   (...)\u001b[0m\n\u001b[0;32m    557\u001b[0m         ctx\u001b[38;5;241m=\u001b[39mctx,\n\u001b[0;32m    558\u001b[0m         cancellation_manager\u001b[38;5;241m=\u001b[39mcancellation_manager)\n",
      "File \u001b[1;32m~\\.conda\\envs\\gpu\\lib\\site-packages\\tensorflow\\python\\eager\\execute.py:59\u001b[0m, in \u001b[0;36mquick_execute\u001b[1;34m(op_name, num_outputs, inputs, attrs, ctx, name)\u001b[0m\n\u001b[0;32m     57\u001b[0m \u001b[38;5;28;01mtry\u001b[39;00m:\n\u001b[0;32m     58\u001b[0m   ctx\u001b[38;5;241m.\u001b[39mensure_initialized()\n\u001b[1;32m---> 59\u001b[0m   tensors \u001b[38;5;241m=\u001b[39m \u001b[43mpywrap_tfe\u001b[49m\u001b[38;5;241;43m.\u001b[39;49m\u001b[43mTFE_Py_Execute\u001b[49m\u001b[43m(\u001b[49m\u001b[43mctx\u001b[49m\u001b[38;5;241;43m.\u001b[39;49m\u001b[43m_handle\u001b[49m\u001b[43m,\u001b[49m\u001b[43m \u001b[49m\u001b[43mdevice_name\u001b[49m\u001b[43m,\u001b[49m\u001b[43m \u001b[49m\u001b[43mop_name\u001b[49m\u001b[43m,\u001b[49m\n\u001b[0;32m     60\u001b[0m \u001b[43m                                      \u001b[49m\u001b[43minputs\u001b[49m\u001b[43m,\u001b[49m\u001b[43m \u001b[49m\u001b[43mattrs\u001b[49m\u001b[43m,\u001b[49m\u001b[43m \u001b[49m\u001b[43mnum_outputs\u001b[49m\u001b[43m)\u001b[49m\n\u001b[0;32m     61\u001b[0m \u001b[38;5;28;01mexcept\u001b[39;00m core\u001b[38;5;241m.\u001b[39m_NotOkStatusException \u001b[38;5;28;01mas\u001b[39;00m e:\n\u001b[0;32m     62\u001b[0m   \u001b[38;5;28;01mif\u001b[39;00m name \u001b[38;5;129;01mis\u001b[39;00m \u001b[38;5;129;01mnot\u001b[39;00m \u001b[38;5;28;01mNone\u001b[39;00m:\n",
      "\u001b[1;31mKeyboardInterrupt\u001b[0m: "
     ]
    }
   ],
   "source": [
    "model.compile(loss=\"categorical_crossentropy\", optimizer='adam', metrics=\"accuracy\")\n",
    "\n",
    "es = EarlyStopping(monitor='val_loss', verbose=1, patience=18)\n",
    "mc = ModelCheckpoint('best_model_final_2.h5', monitor='val_loss', mode='min', save_best_only=True)\n",
    "model.fit(x_train, pd.get_dummies(y_train.values).values,\n",
    "          validation_data=(x_test, pd.get_dummies(y_test.values).values), \n",
    "          epochs=30,\n",
    "          callbacks=[es, mc])"
   ]
  }
 ],
 "metadata": {
  "kernelspec": {
   "display_name": "gpu",
   "language": "python",
   "name": "gpu"
  },
  "language_info": {
   "codemirror_mode": {
    "name": "ipython",
    "version": 3
   },
   "file_extension": ".py",
   "mimetype": "text/x-python",
   "name": "python",
   "nbconvert_exporter": "python",
   "pygments_lexer": "ipython3",
   "version": "3.8.15"
  }
 },
 "nbformat": 4,
 "nbformat_minor": 5
}
